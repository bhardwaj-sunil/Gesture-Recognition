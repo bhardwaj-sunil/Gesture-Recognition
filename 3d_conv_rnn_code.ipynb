{
 "cells": [
  {
   "cell_type": "markdown",
   "metadata": {},
   "source": [
    "# Gesture Recognition\n",
    "In this group project, you are going to build a 3D Conv model that will be able to predict the 5 gestures correctly. Please import the following libraries to get started."
   ]
  },
  {
   "cell_type": "code",
   "execution_count": 1,
   "metadata": {},
   "outputs": [],
   "source": [
    "import numpy as np\n",
    "import os\n",
    "from scipy.misc import imread, imresize\n",
    "import datetime\n",
    "import os"
   ]
  },
  {
   "cell_type": "markdown",
   "metadata": {},
   "source": [
    "We set the random seed so that the results don't vary drastically."
   ]
  },
  {
   "cell_type": "code",
   "execution_count": 2,
   "metadata": {},
   "outputs": [
    {
     "name": "stderr",
     "output_type": "stream",
     "text": [
      "Using TensorFlow backend.\n"
     ]
    }
   ],
   "source": [
    "np.random.seed(30)\n",
    "import random as rn\n",
    "rn.seed(30)\n",
    "from keras import backend as K\n",
    "import tensorflow as tf\n",
    "tf.set_random_seed(30)\n",
    "import keras\n",
    "import warnings\n",
    "warnings.filterwarnings(\"ignore\")\n",
    "import matplotlib.pyplot as plt"
   ]
  },
  {
   "cell_type": "code",
   "execution_count": 3,
   "metadata": {},
   "outputs": [
    {
     "data": {
      "text/plain": [
       "['/job:localhost/replica:0/task:0/device:GPU:0']"
      ]
     },
     "execution_count": 3,
     "metadata": {},
     "output_type": "execute_result"
    }
   ],
   "source": [
    "K.tensorflow_backend._get_available_gpus()"
   ]
  },
  {
   "cell_type": "markdown",
   "metadata": {},
   "source": [
    "In this block, you read the folder names for training and validation. You also set the `batch_size` here. Note that you set the batch size in such a way that you are able to use the GPU in full capacity. You keep increasing the batch size until the machine throws an error."
   ]
  },
  {
   "cell_type": "code",
   "execution_count": 16,
   "metadata": {},
   "outputs": [],
   "source": [
    "train_doc = np.random.permutation(open('Project_data/train.csv').readlines())\n",
    "val_doc = np.random.permutation(open('Project_data/val.csv').readlines())\n",
    "batch_size = 12#experiment with the batch size"
   ]
  },
  {
   "cell_type": "code",
   "execution_count": 17,
   "metadata": {},
   "outputs": [
    {
     "data": {
      "text/plain": [
       "663"
      ]
     },
     "execution_count": 17,
     "metadata": {},
     "output_type": "execute_result"
    }
   ],
   "source": [
    "len(train_doc)"
   ]
  },
  {
   "cell_type": "markdown",
   "metadata": {},
   "source": [
    "## Generator\n",
    "This is one of the most important part of the code. The overall structure of the generator has been given. In the generator, you are going to preprocess the images as you have images of 2 different dimensions as well as create a batch of video frames. You have to experiment with `img_idx`, `y`,`z` and normalization such that you get high accuracy."
   ]
  },
  {
   "cell_type": "code",
   "execution_count": 18,
   "metadata": {},
   "outputs": [],
   "source": [
    "def generator(source_path, folder_list, batch_size):\n",
    "    print( 'Source path = ', source_path, '; batch size =', batch_size)\n",
    "    #img_idx = list(range(0, 30, 2)) #create a list of image numbers you want to use for a particular video\n",
    "    img_idx = [4,5,6,15,16,17,27,28,29]\n",
    "    x = len(img_idx)\n",
    "    y = 120\n",
    "    z = 120\n",
    "    while True:\n",
    "        t = np.random.permutation(folder_list)\n",
    "        num_batches = len(folder_list)//batch_size # calculate the number of batches\n",
    "        for batch in range(num_batches): # we iterate over the number of batches\n",
    "            batch_data = np.zeros((batch_size,x,y,z,3)) # x is the number of images you use for each video, (y,z) is the final size of the input images and 3 is the number of channels RGB\n",
    "            batch_labels = np.zeros((batch_size,5)) # batch_labels is the one hot representation of the output\n",
    "            for folder in range(batch_size): # iterate over the batch_size\n",
    "                imgs = os.listdir(source_path+'/'+ t[folder + (batch*batch_size)].split(';')[0]) # read all the images in the folder\n",
    "                imgs.sort(reverse=True)\n",
    "                for idx,item in enumerate(img_idx): #  Iterate iver the frames/images of a folder to read them in\n",
    "                    image = imread(source_path+'/'+ t[folder + (batch*batch_size)].strip().split(';')[0]+'/'+imgs[item]).astype(np.float32)\n",
    "                    image_resize = imresize(image, (y, z))\n",
    "                    #crop the images and resize them. Note that the images are of 2 different shape \n",
    "                    #and the conv3D will throw error if the inputs in a batch have different shapes\n",
    "                    \n",
    "                    batch_data[folder,idx,:,:,0] = (image_resize[:,:,0] - image_resize.mean())/image_resize.std()#normalise and feed in the image\n",
    "                    batch_data[folder,idx,:,:,1] = (image_resize[:,:,1] - image_resize.mean())/image_resize.std()#normalise and feed in the image\n",
    "                    batch_data[folder,idx,:,:,2] = (image_resize[:,:,2] - image_resize.mean())/image_resize.std()#normalise and feed in the image\n",
    "                    \n",
    "                batch_labels[folder, int(t[folder + (batch*batch_size)].strip().split(';')[2])] = 1\n",
    "            yield batch_data, batch_labels #you yield the batch_data and the batch_labels, remember what does yield do\n",
    "\n",
    "        \n",
    "        # write the code for the remaining data points which are left after full batches\n",
    "        for folder_extra in range(batch_size):\n",
    "            imgs = os.listdir(source_path+'/'+ t[(folder_extra + (num_batches*batch_size))%(len(folder_list))].split(';')[0])\n",
    "            imgs.sort(reverse=True)\n",
    "            for idx,item in enumerate(img_idx): #  Iterate iver the frames/images of a folder to read them in\n",
    "                    image = imread(source_path+'/'+ t[(folder_extra + (num_batches*batch_size))%(len(folder_list))].strip().split(';')[0]+'/'+imgs[item]).astype(np.float32)\n",
    "                    image_resize = imresize(image, (y, z))\n",
    "                    #crop the images and resize them. Note that the images are of 2 different shape \n",
    "                    #and the conv3D will throw error if the inputs in a batch have different shapes\n",
    "                    \n",
    "                    batch_data[folder,idx,:,:,0] = (image_resize[:,:,0] - image_resize.mean())/image_resize.std()#normalise and feed in the image\n",
    "                    batch_data[folder,idx,:,:,1] = (image_resize[:,:,1] - image_resize.mean())/image_resize.std()#normalise and feed in the image\n",
    "                    batch_data[folder,idx,:,:,2] = (image_resize[:,:,2] - image_resize.mean())/image_resize.std()#normalise and feed in the image\n",
    "                    \n",
    "            batch_labels[folder_extra, int( t[(folder_extra + (num_batches*batch_size))%(len(folder_list))].strip().split(';')[2])] = 1\n",
    "        yield batch_data, batch_labels #you yield the batch_data and the batch_labels, remember what does yield do\n",
    "            \n"
   ]
  },
  {
   "cell_type": "code",
   "execution_count": null,
   "metadata": {},
   "outputs": [],
   "source": [
    "def generator1(source_path, folder_list, batch_size):\n",
    "    print( 'Source path = ', source_path, '; batch size =', batch_size)\n",
    "    #img_idx = list(range(0, 30, 2)) #create a list of image numbers you want to use for a particular video\n",
    "    img_idx = [4,5,6,15,27,28,29]\n",
    "    x = len(img_idx)\n",
    "    y = 120\n",
    "    z = 120\n",
    "    \n",
    "    t = folder_list#np.random.permutation(folder_list)\n",
    "    num_batches = len(folder_list)//batch_size # calculate the number of batches\n",
    "    for batch in range(num_batches): # we iterate over the number of batches\n",
    "        batch_data = np.zeros((batch_size,x,y,z,3)) # x is the number of images you use for each video, (y,z) is the final size of the input images and 3 is the number of channels RGB\n",
    "        batch_labels = np.zeros((batch_size,5)) # batch_labels is the one hot representation of the output\n",
    "        for folder in range(batch_size): # iterate over the batch_size\n",
    "            imgs = os.listdir(source_path+'/'+ t[folder + (batch*batch_size)].split(';')[0]) # read all the images in the folder\n",
    "            imgs.sort(reverse=True)\n",
    "            for idx,item in enumerate(img_idx): #  Iterate iver the frames/images of a folder to read them in\n",
    "                image = imread(source_path+'/'+ t[folder + (batch*batch_size)].strip().split(';')[0]+'/'+imgs[item]).astype(np.float32)\n",
    "                image_resize = imresize(image, (y, z))\n",
    "                #crop the images and resize them. Note that the images are of 2 different shape \n",
    "                #and the conv3D will throw error if the inputs in a batch have different shapes\n",
    "                    \n",
    "                batch_data[folder,idx,:,:,0] = (image_resize[:,:,0] - image_resize[:,:,0].mean())/image_resize[:,:,0].std()#normalise and feed in the image\n",
    "                batch_data[folder,idx,:,:,1] = (image_resize[:,:,1] - image_resize[:,:,1].mean())/image_resize[:,:,1].std()#normalise and feed in the image\n",
    "                batch_data[folder,idx,:,:,2] = (image_resize[:,:,2] - image_resize[:,:,2].mean())/image_resize[:,:,2].std()#normalise and feed in the image\n",
    "                    \n",
    "            batch_labels[folder, int(t[folder + (batch*batch_size)].strip().split(';')[2])] = 1\n",
    "        yield batch_data, batch_labels #you yield the batch_data and the batch_labels, remember what does yield do\n",
    "\n",
    "        \n",
    "    # write the code for the remaining data points which are left after full batches\n",
    "    for folder_extra in range(batch_size):\n",
    "        imgs = os.listdir(source_path+'/'+ t[(folder_extra + (num_batches*batch_size))%(len(folder_list))].split(';')[0])\n",
    "        imgs.sort(reverse=True)\n",
    "        for idx,item in enumerate(img_idx): #  Iterate iver the frames/images of a folder to read them in\n",
    "                image = imread(source_path+'/'+ t[(folder_extra + (num_batches*batch_size))%(len(folder_list))].strip().split(';')[0]+'/'+imgs[item]).astype(np.float32)\n",
    "                image_resize = imresize(image, (y, z))\n",
    "                #crop the images and resize them. Note that the images are of 2 different shape \n",
    "                #and the conv3D will throw error if the inputs in a batch have different shapes\n",
    "                    \n",
    "                batch_data[folder,idx,:,:,0] = (image_resize[:,:,0] - image_resize[:,:,0].mean())/image_resize[:,:,0].std()#normalise and feed in the image\n",
    "                batch_data[folder,idx,:,:,1] = (image_resize[:,:,1] - image_resize[:,:,1].mean())/image_resize[:,:,1].std()#normalise and feed in the image\n",
    "                batch_data[folder,idx,:,:,2] = (image_resize[:,:,2] - image_resize[:,:,2].mean())/image_resize[:,:,2].std()#normalise and feed in the image\n",
    "                \n",
    "        batch_labels[folder_extra, int( t[(folder_extra + (num_batches*batch_size))%(len(folder_list))].strip().split(';')[2])] = 1\n",
    "    yield batch_data, batch_labels #you yield the batch_data and the batch_labels, remember what does yield do\n",
    "            \n"
   ]
  },
  {
   "cell_type": "code",
   "execution_count": null,
   "metadata": {
    "scrolled": true
   },
   "outputs": [],
   "source": [
    "next(train_generator)"
   ]
  },
  {
   "cell_type": "markdown",
   "metadata": {},
   "source": [
    "Note here that a video is represented above in the generator as (number of images, height, width, number of channels). Take this into consideration while creating the model architecture."
   ]
  },
  {
   "cell_type": "code",
   "execution_count": 19,
   "metadata": {},
   "outputs": [
    {
     "name": "stdout",
     "output_type": "stream",
     "text": [
      "# training sequences = 663\n",
      "# validation sequences = 100\n",
      "# epochs = 20\n"
     ]
    }
   ],
   "source": [
    "curr_dt_time = datetime.datetime.now()\n",
    "train_path = 'Project_data/train'\n",
    "val_path = 'Project_data/val'\n",
    "num_train_sequences = len(train_doc)\n",
    "print('# training sequences =', num_train_sequences)\n",
    "num_val_sequences = len(val_doc)\n",
    "print('# validation sequences =', num_val_sequences)\n",
    "num_epochs = 20# choose the number of epochs\n",
    "print ('# epochs =', num_epochs)"
   ]
  },
  {
   "cell_type": "markdown",
   "metadata": {},
   "source": [
    "## Model\n",
    "Here you make the model using different functionalities that Keras provides. Remember to use `Conv3D` and `MaxPooling3D` and not `Conv2D` and `Maxpooling2D` for a 3D convolution model. You would want to use `TimeDistributed` while building a Conv2D + RNN model. Also remember that the last layer is the softmax. Design the network in such a way that the model is able to give good accuracy on the least number of parameters so that it can fit in the memory of the webcam."
   ]
  },
  {
   "cell_type": "code",
   "execution_count": 65,
   "metadata": {},
   "outputs": [],
   "source": [
    "from keras.models import Sequential, Model\n",
    "from keras.layers import Dense, GRU, Flatten, TimeDistributed, Flatten, BatchNormalization, Activation\n",
    "from keras.layers.convolutional import Conv3D, MaxPooling3D\n",
    "from keras.layers import Dropout\n",
    "from keras.callbacks import ModelCheckpoint, ReduceLROnPlateau\n",
    "from keras import optimizers\n",
    "batch_size = 12\n",
    "x = 9\n",
    "y = 120\n",
    "z = 120\n",
    "no_classes = 5\n",
    "#write your model here\n",
    "#Model 1 using 2 con3d layers, 2 maxpool 3d and 2 fully connected\n",
    "#Result: There seems to be overfitting as the validation loss is increasing while train loss is increasing\n",
    "model = Sequential()\n",
    "\n",
    "model.add(Conv3D(16, kernel_size = (3,3,3),padding='same', input_shape=(x,y,z,3)))\n",
    "model.add(BatchNormalization())\n",
    "model.add(Activation(\"relu\"))\n",
    "model.add(MaxPooling3D(pool_size=(2,2,2)))\n",
    "#model.add(Dropout(0.2))\n",
    "\n",
    "model.add(Conv3D(32, kernel_size = (3,3,3),padding='same'))\n",
    "model.add(BatchNormalization())\n",
    "model.add(Activation(\"relu\"))\n",
    "model.add(MaxPooling3D(pool_size=(1, 2, 2)))\n",
    "model.add(Dropout(0.2))\n",
    "\n",
    "model.add(Conv3D(64, kernel_size = (3,3,3),padding='same'))\n",
    "model.add(BatchNormalization())\n",
    "model.add(Activation(\"relu\"))\n",
    "model.add(MaxPooling3D(pool_size=(1, 2, 2)))\n",
    "#model.add(Dropout(0.2))\n",
    "\n",
    "model.add(Conv3D(128, kernel_size = (3,3,3),padding='same'))\n",
    "model.add(BatchNormalization())\n",
    "model.add(Activation(\"relu\"))\n",
    "model.add(MaxPooling3D(pool_size=(2, 2, 2)))\n",
    "model.add(Dropout(0.3))\n",
    "\n",
    "model.add(Flatten())\n",
    "\n",
    "model.add(Dense(64))\n",
    "model.add(BatchNormalization())\n",
    "model.add(Activation(\"relu\"))\n",
    "model.add(Dropout(0.5))\n",
    "#model.add(Dense(128, activation = 'relu'))\n",
    "#model.add(Dropout(0.3))\n",
    "model.add(Dense(no_classes, activation = 'softmax'))"
   ]
  },
  {
   "cell_type": "markdown",
   "metadata": {},
   "source": [
    "Now that you have written the model, the next step is to `compile` the model. When you print the `summary` of the model, you'll see the total number of parameters you have to train."
   ]
  },
  {
   "cell_type": "code",
   "execution_count": 66,
   "metadata": {
    "scrolled": true
   },
   "outputs": [
    {
     "name": "stdout",
     "output_type": "stream",
     "text": [
      "_________________________________________________________________\n",
      "Layer (type)                 Output Shape              Param #   \n",
      "=================================================================\n",
      "conv3d_37 (Conv3D)           (None, 9, 120, 120, 16)   1312      \n",
      "_________________________________________________________________\n",
      "batch_normalization_36 (Batc (None, 9, 120, 120, 16)   64        \n",
      "_________________________________________________________________\n",
      "activation_36 (Activation)   (None, 9, 120, 120, 16)   0         \n",
      "_________________________________________________________________\n",
      "max_pooling3d_37 (MaxPooling (None, 4, 60, 60, 16)     0         \n",
      "_________________________________________________________________\n",
      "conv3d_38 (Conv3D)           (None, 4, 60, 60, 32)     13856     \n",
      "_________________________________________________________________\n",
      "batch_normalization_37 (Batc (None, 4, 60, 60, 32)     128       \n",
      "_________________________________________________________________\n",
      "activation_37 (Activation)   (None, 4, 60, 60, 32)     0         \n",
      "_________________________________________________________________\n",
      "max_pooling3d_38 (MaxPooling (None, 4, 30, 30, 32)     0         \n",
      "_________________________________________________________________\n",
      "dropout_31 (Dropout)         (None, 4, 30, 30, 32)     0         \n",
      "_________________________________________________________________\n",
      "conv3d_39 (Conv3D)           (None, 4, 30, 30, 64)     55360     \n",
      "_________________________________________________________________\n",
      "batch_normalization_38 (Batc (None, 4, 30, 30, 64)     256       \n",
      "_________________________________________________________________\n",
      "activation_38 (Activation)   (None, 4, 30, 30, 64)     0         \n",
      "_________________________________________________________________\n",
      "max_pooling3d_39 (MaxPooling (None, 4, 15, 15, 64)     0         \n",
      "_________________________________________________________________\n",
      "conv3d_40 (Conv3D)           (None, 4, 15, 15, 128)    221312    \n",
      "_________________________________________________________________\n",
      "batch_normalization_39 (Batc (None, 4, 15, 15, 128)    512       \n",
      "_________________________________________________________________\n",
      "activation_39 (Activation)   (None, 4, 15, 15, 128)    0         \n",
      "_________________________________________________________________\n",
      "max_pooling3d_40 (MaxPooling (None, 2, 7, 7, 128)      0         \n",
      "_________________________________________________________________\n",
      "dropout_32 (Dropout)         (None, 2, 7, 7, 128)      0         \n",
      "_________________________________________________________________\n",
      "flatten_10 (Flatten)         (None, 12544)             0         \n",
      "_________________________________________________________________\n",
      "dense_19 (Dense)             (None, 64)                802880    \n",
      "_________________________________________________________________\n",
      "batch_normalization_40 (Batc (None, 64)                256       \n",
      "_________________________________________________________________\n",
      "activation_40 (Activation)   (None, 64)                0         \n",
      "_________________________________________________________________\n",
      "dropout_33 (Dropout)         (None, 64)                0         \n",
      "_________________________________________________________________\n",
      "dense_20 (Dense)             (None, 5)                 325       \n",
      "=================================================================\n",
      "Total params: 1,096,261\n",
      "Trainable params: 1,095,653\n",
      "Non-trainable params: 608\n",
      "_________________________________________________________________\n",
      "None\n"
     ]
    }
   ],
   "source": [
    "learning_rate = 0.001\n",
    "optimiser = keras.optimizers.SGD(lr=learning_rate, decay=1e-6, momentum=0.8, nesterov=True)#write your optimizer\n",
    "model.compile(optimizer=optimiser, loss='categorical_crossentropy', metrics=['categorical_accuracy'])\n",
    "print (model.summary())"
   ]
  },
  {
   "cell_type": "markdown",
   "metadata": {},
   "source": [
    "Let us create the `train_generator` and the `val_generator` which will be used in `.fit_generator`."
   ]
  },
  {
   "cell_type": "code",
   "execution_count": 67,
   "metadata": {},
   "outputs": [],
   "source": [
    "train_generator = generator(train_path, train_doc, batch_size)\n",
    "val_generator = generator(val_path, val_doc, batch_size)"
   ]
  },
  {
   "cell_type": "code",
   "execution_count": 68,
   "metadata": {},
   "outputs": [],
   "source": [
    "model_name = 'model_init' + '_' + str(curr_dt_time).replace(' ','').replace(':','_') + '/'\n",
    "    \n",
    "if not os.path.exists(model_name):\n",
    "    os.mkdir(model_name)\n",
    "        \n",
    "filepath = model_name + 'model-{epoch:05d}-{loss:.5f}-{categorical_accuracy:.5f}-{val_loss:.5f}-{val_categorical_accuracy:.5f}.h5'\n",
    "\n",
    "checkpoint = ModelCheckpoint(filepath, monitor='val_categorical_accuracy', verbose=1, save_best_only=True, save_weights_only=False, mode='auto', period=1)\n",
    "\n",
    "LR = ReduceLROnPlateau(monitor='val_loss', factor=0.5,\n",
    "                              patience=5, min_lr=0.00001, verbose=1)# write the REducelronplateau code here\n",
    "callbacks_list = [checkpoint, LR]"
   ]
  },
  {
   "cell_type": "markdown",
   "metadata": {},
   "source": [
    "The `steps_per_epoch` and `validation_steps` are used by `fit_generator` to decide the number of next() calls it need to make."
   ]
  },
  {
   "cell_type": "code",
   "execution_count": 69,
   "metadata": {},
   "outputs": [],
   "source": [
    "if (num_train_sequences%batch_size) == 0:\n",
    "    steps_per_epoch = int(num_train_sequences/batch_size)\n",
    "else:\n",
    "    steps_per_epoch = (num_train_sequences//batch_size) + 1\n",
    "\n",
    "if (num_val_sequences%batch_size) == 0:\n",
    "    validation_steps = int(num_val_sequences/batch_size)\n",
    "else:\n",
    "    validation_steps = (num_val_sequences//batch_size) + 1"
   ]
  },
  {
   "cell_type": "markdown",
   "metadata": {},
   "source": [
    "Let us now fit the model. This will start training the model and with the help of the checkpoints, you'll be able to save the model at the end of each epoch."
   ]
  },
  {
   "cell_type": "code",
   "execution_count": 70,
   "metadata": {
    "scrolled": false
   },
   "outputs": [
    {
     "name": "stdout",
     "output_type": "stream",
     "text": [
      "Source path =  Project_data/val Source path =  Project_data/train ; batch size = 12\n",
      "; batch size = 12\n",
      "Epoch 1/40\n",
      "56/56 [==============================] - 33s 581ms/step - loss: 1.8684 - categorical_accuracy: 0.2887 - val_loss: 1.7703 - val_categorical_accuracy: 0.3704\n",
      "\n",
      "Epoch 00001: val_categorical_accuracy improved from -inf to 0.37037, saving model to model_init_2019-12-2208_10_00.874162/model-00001-1.86840-0.28869-1.77034-0.37037.h5\n",
      "Epoch 2/40\n",
      "56/56 [==============================] - 27s 487ms/step - loss: 1.3812 - categorical_accuracy: 0.4673 - val_loss: 1.5738 - val_categorical_accuracy: 0.5093\n",
      "\n",
      "Epoch 00002: val_categorical_accuracy improved from 0.37037 to 0.50926, saving model to model_init_2019-12-2208_10_00.874162/model-00002-1.38120-0.46726-1.57384-0.50926.h5\n",
      "Epoch 3/40\n",
      "56/56 [==============================] - 30s 531ms/step - loss: 1.0678 - categorical_accuracy: 0.6116 - val_loss: 1.2285 - val_categorical_accuracy: 0.6111\n",
      "\n",
      "Epoch 00003: val_categorical_accuracy improved from 0.50926 to 0.61111, saving model to model_init_2019-12-2208_10_00.874162/model-00003-1.06783-0.61161-1.22848-0.61111.h5\n",
      "Epoch 4/40\n",
      "56/56 [==============================] - 30s 531ms/step - loss: 0.8790 - categorical_accuracy: 0.6786 - val_loss: 1.5546 - val_categorical_accuracy: 0.5926\n",
      "\n",
      "Epoch 00004: val_categorical_accuracy did not improve from 0.61111\n",
      "Epoch 5/40\n",
      "56/56 [==============================] - 30s 534ms/step - loss: 0.7258 - categorical_accuracy: 0.7396 - val_loss: 1.5133 - val_categorical_accuracy: 0.5833\n",
      "\n",
      "Epoch 00005: val_categorical_accuracy did not improve from 0.61111\n",
      "Epoch 6/40\n",
      "56/56 [==============================] - 30s 542ms/step - loss: 0.6776 - categorical_accuracy: 0.7693 - val_loss: 1.5493 - val_categorical_accuracy: 0.6389\n",
      "\n",
      "Epoch 00006: val_categorical_accuracy improved from 0.61111 to 0.63889, saving model to model_init_2019-12-2208_10_00.874162/model-00006-0.67762-0.76935-1.54926-0.63889.h5\n",
      "Epoch 7/40\n",
      "56/56 [==============================] - 30s 541ms/step - loss: 0.6722 - categorical_accuracy: 0.7902 - val_loss: 1.4212 - val_categorical_accuracy: 0.7222\n",
      "\n",
      "Epoch 00007: val_categorical_accuracy improved from 0.63889 to 0.72222, saving model to model_init_2019-12-2208_10_00.874162/model-00007-0.67223-0.79018-1.42125-0.72222.h5\n",
      "Epoch 8/40\n",
      "56/56 [==============================] - 30s 537ms/step - loss: 0.5892 - categorical_accuracy: 0.8021 - val_loss: 1.6462 - val_categorical_accuracy: 0.6389\n",
      "\n",
      "Epoch 00008: val_categorical_accuracy did not improve from 0.72222\n",
      "\n",
      "Epoch 00008: ReduceLROnPlateau reducing learning rate to 0.0005000000237487257.\n",
      "Epoch 9/40\n",
      "56/56 [==============================] - 29s 524ms/step - loss: 0.5665 - categorical_accuracy: 0.8140 - val_loss: 1.3503 - val_categorical_accuracy: 0.7315\n",
      "\n",
      "Epoch 00009: val_categorical_accuracy improved from 0.72222 to 0.73148, saving model to model_init_2019-12-2208_10_00.874162/model-00009-0.56647-0.81399-1.35030-0.73148.h5\n",
      "Epoch 10/40\n",
      "56/56 [==============================] - 30s 532ms/step - loss: 0.4953 - categorical_accuracy: 0.8408 - val_loss: 1.4358 - val_categorical_accuracy: 0.7222\n",
      "\n",
      "Epoch 00010: val_categorical_accuracy did not improve from 0.73148\n",
      "Epoch 11/40\n",
      "56/56 [==============================] - 30s 531ms/step - loss: 0.5348 - categorical_accuracy: 0.8378 - val_loss: 1.3683 - val_categorical_accuracy: 0.6667\n",
      "\n",
      "Epoch 00011: val_categorical_accuracy did not improve from 0.73148\n",
      "Epoch 12/40\n",
      "56/56 [==============================] - 30s 536ms/step - loss: 0.4994 - categorical_accuracy: 0.8378 - val_loss: 1.2170 - val_categorical_accuracy: 0.7407\n",
      "\n",
      "Epoch 00012: val_categorical_accuracy improved from 0.73148 to 0.74074, saving model to model_init_2019-12-2208_10_00.874162/model-00012-0.49937-0.83780-1.21697-0.74074.h5\n",
      "Epoch 13/40\n",
      "56/56 [==============================] - 30s 531ms/step - loss: 0.4275 - categorical_accuracy: 0.8854 - val_loss: 1.4226 - val_categorical_accuracy: 0.6944\n",
      "\n",
      "Epoch 00013: val_categorical_accuracy did not improve from 0.74074\n",
      "Epoch 14/40\n",
      "56/56 [==============================] - 30s 530ms/step - loss: 0.4804 - categorical_accuracy: 0.8676 - val_loss: 1.3835 - val_categorical_accuracy: 0.7222\n",
      "\n",
      "Epoch 00014: val_categorical_accuracy did not improve from 0.74074\n",
      "Epoch 15/40\n",
      "56/56 [==============================] - 30s 531ms/step - loss: 0.4177 - categorical_accuracy: 0.8676 - val_loss: 0.9137 - val_categorical_accuracy: 0.7407\n",
      "\n",
      "Epoch 00015: val_categorical_accuracy improved from 0.74074 to 0.74074, saving model to model_init_2019-12-2208_10_00.874162/model-00015-0.41773-0.86756-0.91371-0.74074.h5\n",
      "Epoch 16/40\n",
      "56/56 [==============================] - 30s 533ms/step - loss: 0.4359 - categorical_accuracy: 0.8780 - val_loss: 1.1116 - val_categorical_accuracy: 0.7963\n",
      "\n",
      "Epoch 00016: val_categorical_accuracy improved from 0.74074 to 0.79630, saving model to model_init_2019-12-2208_10_00.874162/model-00016-0.43587-0.87798-1.11159-0.79630.h5\n",
      "Epoch 17/40\n",
      "56/56 [==============================] - 30s 527ms/step - loss: 0.4565 - categorical_accuracy: 0.8720 - val_loss: 1.4047 - val_categorical_accuracy: 0.7778\n",
      "\n",
      "Epoch 00017: val_categorical_accuracy did not improve from 0.79630\n",
      "Epoch 18/40\n",
      "56/56 [==============================] - 30s 542ms/step - loss: 0.4134 - categorical_accuracy: 0.8929 - val_loss: 1.1671 - val_categorical_accuracy: 0.7685\n",
      "\n",
      "Epoch 00018: val_categorical_accuracy did not improve from 0.79630\n",
      "Epoch 19/40\n",
      "56/56 [==============================] - 30s 530ms/step - loss: 0.4207 - categorical_accuracy: 0.8810 - val_loss: 1.2230 - val_categorical_accuracy: 0.7500\n",
      "\n",
      "Epoch 00019: val_categorical_accuracy did not improve from 0.79630\n",
      "Epoch 20/40\n",
      "56/56 [==============================] - 29s 526ms/step - loss: 0.3966 - categorical_accuracy: 0.8958 - val_loss: 1.3400 - val_categorical_accuracy: 0.7685\n",
      "\n",
      "Epoch 00020: val_categorical_accuracy did not improve from 0.79630\n",
      "\n",
      "Epoch 00020: ReduceLROnPlateau reducing learning rate to 0.0002500000118743628.\n",
      "Epoch 21/40\n",
      "56/56 [==============================] - 30s 539ms/step - loss: 0.3695 - categorical_accuracy: 0.9152 - val_loss: 1.3193 - val_categorical_accuracy: 0.7685\n",
      "\n",
      "Epoch 00021: val_categorical_accuracy did not improve from 0.79630\n",
      "Epoch 22/40\n",
      "56/56 [==============================] - 30s 530ms/step - loss: 0.3669 - categorical_accuracy: 0.9018 - val_loss: 1.5248 - val_categorical_accuracy: 0.7870\n",
      "\n",
      "Epoch 00022: val_categorical_accuracy did not improve from 0.79630\n",
      "Epoch 23/40\n",
      "56/56 [==============================] - 30s 530ms/step - loss: 0.3981 - categorical_accuracy: 0.9018 - val_loss: 1.4980 - val_categorical_accuracy: 0.7130\n",
      "\n",
      "Epoch 00023: val_categorical_accuracy did not improve from 0.79630\n",
      "Epoch 24/40\n",
      "56/56 [==============================] - 30s 530ms/step - loss: 0.3684 - categorical_accuracy: 0.9211 - val_loss: 1.3980 - val_categorical_accuracy: 0.7500\n",
      "\n",
      "Epoch 00024: val_categorical_accuracy did not improve from 0.79630\n",
      "Epoch 25/40\n",
      "56/56 [==============================] - 30s 537ms/step - loss: 0.3838 - categorical_accuracy: 0.9226 - val_loss: 1.2960 - val_categorical_accuracy: 0.7407\n",
      "\n",
      "Epoch 00025: val_categorical_accuracy did not improve from 0.79630\n",
      "\n",
      "Epoch 00025: ReduceLROnPlateau reducing learning rate to 0.0001250000059371814.\n",
      "Epoch 26/40\n",
      "56/56 [==============================] - 30s 531ms/step - loss: 0.3491 - categorical_accuracy: 0.8973 - val_loss: 1.2061 - val_categorical_accuracy: 0.7222\n",
      "\n",
      "Epoch 00026: val_categorical_accuracy did not improve from 0.79630\n",
      "Epoch 27/40\n",
      "56/56 [==============================] - 30s 532ms/step - loss: 0.3557 - categorical_accuracy: 0.9196 - val_loss: 1.3591 - val_categorical_accuracy: 0.8333\n",
      "\n",
      "Epoch 00027: val_categorical_accuracy improved from 0.79630 to 0.83333, saving model to model_init_2019-12-2208_10_00.874162/model-00027-0.35572-0.91964-1.35913-0.83333.h5\n",
      "Epoch 28/40\n",
      "56/56 [==============================] - 30s 535ms/step - loss: 0.3493 - categorical_accuracy: 0.9256 - val_loss: 1.1810 - val_categorical_accuracy: 0.7963\n",
      "\n",
      "Epoch 00028: val_categorical_accuracy did not improve from 0.83333\n",
      "Epoch 29/40\n",
      "56/56 [==============================] - 30s 530ms/step - loss: 0.3685 - categorical_accuracy: 0.9152 - val_loss: 1.2890 - val_categorical_accuracy: 0.8056\n",
      "\n",
      "Epoch 00029: val_categorical_accuracy did not improve from 0.83333\n",
      "Epoch 30/40\n"
     ]
    },
    {
     "name": "stdout",
     "output_type": "stream",
     "text": [
      "56/56 [==============================] - 30s 530ms/step - loss: 0.3829 - categorical_accuracy: 0.8988 - val_loss: 1.1150 - val_categorical_accuracy: 0.7407\n",
      "\n",
      "Epoch 00030: val_categorical_accuracy did not improve from 0.83333\n",
      "\n",
      "Epoch 00030: ReduceLROnPlateau reducing learning rate to 6.25000029685907e-05.\n",
      "Epoch 31/40\n",
      "56/56 [==============================] - 30s 531ms/step - loss: 0.3391 - categorical_accuracy: 0.9271 - val_loss: 0.9053 - val_categorical_accuracy: 0.8333\n",
      "\n",
      "Epoch 00031: val_categorical_accuracy did not improve from 0.83333\n",
      "Epoch 32/40\n",
      "56/56 [==============================] - 30s 534ms/step - loss: 0.3558 - categorical_accuracy: 0.9063 - val_loss: 1.3410 - val_categorical_accuracy: 0.7778\n",
      "\n",
      "Epoch 00032: val_categorical_accuracy did not improve from 0.83333\n",
      "Epoch 33/40\n",
      "56/56 [==============================] - 30s 532ms/step - loss: 0.3848 - categorical_accuracy: 0.8973 - val_loss: 1.4591 - val_categorical_accuracy: 0.7963\n",
      "\n",
      "Epoch 00033: val_categorical_accuracy did not improve from 0.83333\n",
      "Epoch 34/40\n",
      "56/56 [==============================] - 30s 530ms/step - loss: 0.3330 - categorical_accuracy: 0.9241 - val_loss: 1.0258 - val_categorical_accuracy: 0.7593\n",
      "\n",
      "Epoch 00034: val_categorical_accuracy did not improve from 0.83333\n",
      "Epoch 35/40\n",
      "56/56 [==============================] - 30s 536ms/step - loss: 0.3201 - categorical_accuracy: 0.9330 - val_loss: 1.2266 - val_categorical_accuracy: 0.7870\n",
      "\n",
      "Epoch 00035: val_categorical_accuracy did not improve from 0.83333\n",
      "Epoch 36/40\n",
      "56/56 [==============================] - 30s 542ms/step - loss: 0.3141 - categorical_accuracy: 0.9241 - val_loss: 1.1755 - val_categorical_accuracy: 0.7870\n",
      "\n",
      "Epoch 00036: val_categorical_accuracy did not improve from 0.83333\n",
      "\n",
      "Epoch 00036: ReduceLROnPlateau reducing learning rate to 3.125000148429535e-05.\n",
      "Epoch 37/40\n",
      "56/56 [==============================] - 30s 535ms/step - loss: 0.3359 - categorical_accuracy: 0.9301 - val_loss: 1.4009 - val_categorical_accuracy: 0.7685\n",
      "\n",
      "Epoch 00037: val_categorical_accuracy did not improve from 0.83333\n",
      "Epoch 38/40\n",
      "56/56 [==============================] - 30s 540ms/step - loss: 0.3529 - categorical_accuracy: 0.9211 - val_loss: 1.3483 - val_categorical_accuracy: 0.7130\n",
      "\n",
      "Epoch 00038: val_categorical_accuracy did not improve from 0.83333\n",
      "Epoch 39/40\n",
      "56/56 [==============================] - 30s 537ms/step - loss: 0.3183 - categorical_accuracy: 0.9167 - val_loss: 1.3854 - val_categorical_accuracy: 0.7500\n",
      "\n",
      "Epoch 00039: val_categorical_accuracy did not improve from 0.83333\n",
      "Epoch 40/40\n",
      "56/56 [==============================] - 30s 529ms/step - loss: 0.3700 - categorical_accuracy: 0.8973 - val_loss: 1.2728 - val_categorical_accuracy: 0.7963\n",
      "\n",
      "Epoch 00040: val_categorical_accuracy did not improve from 0.83333\n"
     ]
    }
   ],
   "source": [
    "history = model.fit_generator(train_generator, steps_per_epoch=steps_per_epoch, epochs=num_epochs, verbose=1, \n",
    "                    callbacks=callbacks_list, validation_data=val_generator, \n",
    "                    validation_steps=validation_steps, class_weight=None, workers=1, initial_epoch=0)"
   ]
  },
  {
   "cell_type": "code",
   "execution_count": 71,
   "metadata": {},
   "outputs": [
    {
     "data": {
      "image/png": "[encoded data removed]",
      "text/plain": [
       "<Figure size 432x288 with 1 Axes>"
      ]
     },
     "metadata": {},
     "output_type": "display_data"
    },
    {
     "data": {
      "image/png": "[encoded data removed]",
      "text/plain": [
       "<Figure size 432x288 with 1 Axes>"
      ]
     },
     "metadata": {},
     "output_type": "display_data"
    }
   ],
   "source": [
    "# Plot training & validation accuracy values\n",
    "plt.plot(history.history['categorical_accuracy'])\n",
    "plt.plot(history.history['val_categorical_accuracy'])\n",
    "plt.title('Model accuracy')\n",
    "plt.ylabel('Accuracy')\n",
    "plt.xlabel('Epoch')\n",
    "plt.legend(['Train', 'Test'], loc='upper left')\n",
    "plt.show()\n",
    "\n",
    "# Plot training & validation loss values\n",
    "plt.plot(history.history['loss'])\n",
    "plt.plot(history.history['val_loss'])\n",
    "plt.title('Model loss')\n",
    "plt.ylabel('Loss')\n",
    "plt.xlabel('Epoch')\n",
    "plt.legend(['Train', 'Test'], loc='upper left')\n",
    "plt.show()"
   ]
  },
  {
   "cell_type": "code",
   "execution_count": null,
   "metadata": {},
   "outputs": [],
   "source": [
    "test_generator = generator1(val_path, val_doc, batch_size)"
   ]
  },
  {
   "cell_type": "code",
   "execution_count": null,
   "metadata": {},
   "outputs": [],
   "source": [
    "\n",
    "if (num_val_sequences%batch_size) == 0:\n",
    "    validation_steps = int(num_val_sequences/batch_size)\n",
    "else:\n",
    "    validation_steps = (num_val_sequences//batch_size) + 1\n",
    "\n",
    "predictions = model.predict_generator(test_generator, steps=validation_steps)\n",
    "# Get most likely class\n",
    "predicted_classes = np.argmax(predictions, axis=1)"
   ]
  },
  {
   "cell_type": "code",
   "execution_count": null,
   "metadata": {},
   "outputs": [],
   "source": [
    "final = predicted_classes[0:96]"
   ]
  },
  {
   "cell_type": "code",
   "execution_count": null,
   "metadata": {},
   "outputs": [],
   "source": [
    "i = 0\n",
    "final = np.empty((0,48), int)\n",
    "for x in test_generator:\n",
    "    print('hello' + str(i))\n",
    "    \n",
    "    true_label = x[1]\n",
    "    true_class = np.argmax(true_label, axis=1)\n",
    "    if i==0:\n",
    "        temp = true_class\n",
    "    else:\n",
    "        test = np.append(temp, true_class)\n",
    "    \n",
    "    i = i+1\n",
    "    "
   ]
  },
  {
   "cell_type": "code",
   "execution_count": null,
   "metadata": {},
   "outputs": [],
   "source": [
    "len(test)"
   ]
  },
  {
   "cell_type": "code",
   "execution_count": null,
   "metadata": {},
   "outputs": [],
   "source": [
    "len(final)"
   ]
  },
  {
   "cell_type": "code",
   "execution_count": null,
   "metadata": {},
   "outputs": [],
   "source": [
    "from sklearn import metrics\n",
    "report = metrics.classification_report(test, final)\n",
    "print(report)    "
   ]
  },
  {
   "cell_type": "code",
   "execution_count": null,
   "metadata": {},
   "outputs": [],
   "source": [
    "from matplotlib import pyplot\n",
    "for layer in model.layers:\n",
    "    # check for convolutional layer\n",
    "    if 'conv' not in layer.name:\n",
    "        continue\n",
    "    # get filter weights\n",
    "    filters, biases = layer.get_weights()\n",
    "    print(layer.name, filters.shape)"
   ]
  },
  {
   "cell_type": "code",
   "execution_count": 42,
   "metadata": {},
   "outputs": [],
   "source": [
    "def generator_rnn(source_path, folder_list, batch_size):\n",
    "    print( 'Source path = ', source_path, '; batch size =', batch_size)\n",
    "    #img_idx = list(range(0, 30, 2)) #create a list of image numbers you want to use for a particular video\n",
    "    img_idx = [4,5,15,16,27,28]\n",
    "    x = len(img_idx)\n",
    "    y = 128\n",
    "    z = 128\n",
    "    while True:\n",
    "        t = np.random.permutation(folder_list)\n",
    "        num_batches = len(folder_list)//batch_size # calculate the number of batches\n",
    "        for batch in range(num_batches): # we iterate over the number of batches\n",
    "            batch_data = np.zeros((batch_size,x,y,z,3)) # x is the number of images you use for each video, (y,z) is the final size of the input images and 3 is the number of channels RGB\n",
    "            batch_labels = np.zeros((batch_size,5)) # batch_labels is the one hot representation of the output\n",
    "            for folder in range(batch_size): # iterate over the batch_size\n",
    "                imgs = os.listdir(source_path+'/'+ t[folder + (batch*batch_size)].split(';')[0]) # read all the images in the folder\n",
    "                imgs.sort(reverse=True)\n",
    "                for idx,item in enumerate(img_idx): #  Iterate iver the frames/images of a folder to read them in\n",
    "                    image = imread(source_path+'/'+ t[folder + (batch*batch_size)].strip().split(';')[0]+'/'+imgs[item]).astype(np.float32)\n",
    "                    image_resize = imresize(image, (y, z))\n",
    "                    #crop the images and resize them. Note that the images are of 2 different shape \n",
    "                    #and the conv3D will throw error if the inputs in a batch have different shapes\n",
    "                    \n",
    "                    batch_data[folder,idx,:,:,0] = (image_resize[:,:,0] - image_resize.mean())/image_resize.std()#normalise and feed in the image\n",
    "                    batch_data[folder,idx,:,:,1] = (image_resize[:,:,1] - image_resize.mean())/image_resize.std()#normalise and feed in the image\n",
    "                    batch_data[folder,idx,:,:,2] = (image_resize[:,:,2] - image_resize.mean())/image_resize.std()#normalise and feed in the image\n",
    "                    \n",
    "                batch_labels[folder, int(t[folder + (batch*batch_size)].strip().split(';')[2])] = 1\n",
    "            yield batch_data, batch_labels #you yield the batch_data and the batch_labels, remember what does yield do\n",
    "\n",
    "        \n",
    "        # write the code for the remaining data points which are left after full batches\n",
    "        for folder_extra in range(batch_size):\n",
    "            imgs = os.listdir(source_path+'/'+ t[(folder_extra + (num_batches*batch_size))%(len(folder_list))].split(';')[0])\n",
    "            imgs.sort(reverse=True)\n",
    "            for idx,item in enumerate(img_idx): #  Iterate iver the frames/images of a folder to read them in\n",
    "                    image = imread(source_path+'/'+ t[(folder_extra + (num_batches*batch_size))%(len(folder_list))].strip().split(';')[0]+'/'+imgs[item]).astype(np.float32)\n",
    "                    image_resize = imresize(image, (y, z))\n",
    "                    #crop the images and resize them. Note that the images are of 2 different shape \n",
    "                    #and the conv3D will throw error if the inputs in a batch have different shapes\n",
    "                    \n",
    "                    batch_data[folder,idx,:,:,0] = (image_resize[:,:,0] - image_resize.mean())/image_resize.std()#normalise and feed in the image\n",
    "                    batch_data[folder,idx,:,:,1] = (image_resize[:,:,1] - image_resize.mean())/image_resize.std()#normalise and feed in the image\n",
    "                    batch_data[folder,idx,:,:,2] = (image_resize[:,:,2] - image_resize.mean())/image_resize.std()#normalise and feed in the image\n",
    "                    \n",
    "            batch_labels[folder_extra, int( t[(folder_extra + (num_batches*batch_size))%(len(folder_list))].strip().split(';')[2])] = 1\n",
    "        yield batch_data, batch_labels #you yield the batch_data and the batch_labels, remember what does yield do\n",
    "            \n"
   ]
  },
  {
   "cell_type": "code",
   "execution_count": 72,
   "metadata": {},
   "outputs": [
    {
     "name": "stdout",
     "output_type": "stream",
     "text": [
      "# training sequences = 663\n",
      "# validation sequences = 100\n",
      "# epochs = 30\n"
     ]
    }
   ],
   "source": [
    "curr_dt_time = datetime.datetime.now()\n",
    "train_path = 'Project_data/train'\n",
    "val_path = 'Project_data/val'\n",
    "num_train_sequences = len(train_doc)\n",
    "print('# training sequences =', num_train_sequences)\n",
    "num_val_sequences = len(val_doc)\n",
    "print('# validation sequences =', num_val_sequences)\n",
    "num_epochs = 30# choose the number of epochs\n",
    "print ('# epochs =', num_epochs)"
   ]
  },
  {
   "cell_type": "code",
   "execution_count": 73,
   "metadata": {},
   "outputs": [],
   "source": [
    "from keras.models import Sequential, Model\n",
    "from keras.layers import Dense, GRU, Flatten, TimeDistributed, Flatten, BatchNormalization, Activation\n",
    "from keras.layers.convolutional import Conv3D, MaxPooling3D\n",
    "from keras.layers import Dropout\n",
    "from keras.callbacks import ModelCheckpoint, ReduceLROnPlateau\n",
    "#from keras.applications import mobilenet_v2\n",
    "from keras import optimizers\n",
    "batch_size = 12\n",
    "x = 6\n",
    "y = 128\n",
    "z = 128\n",
    "no_classes = 5\n",
    "#write your model here\n",
    "#Model 1 using 2 con3d layers, 2 maxpool 3d and 2 fully connected\n",
    "#Result: There seems to be overfitting as the validation loss is increasing while train loss is increasing\n",
    "\n",
    "mobile_net = keras.applications.mobilenet.MobileNet(include_top = False, weights='imagenet',input_shape=(128, 128, 3))\n",
    "\n",
    "\n",
    "model = Sequential()\n",
    "\n",
    "model.add(\n",
    "            TimeDistributed(mobile_net, input_shape = (6,128,128,3)))\n",
    "\n",
    "model.add(TimeDistributed(Flatten()))\n",
    "\n",
    "model.add(GRU(16, activation='relu',return_sequences=False))\n",
    "\n",
    "model.add(Dense(16))\n",
    "model.add(BatchNormalization())\n",
    "model.add(Activation(\"relu\"))\n",
    "model.add(Dropout(0.5))\n",
    "#model.add(Dense(128, activation = 'relu'))\n",
    "#model.add(Dropout(0.3))\n",
    "model.add(Dense(no_classes, activation = 'softmax'))"
   ]
  },
  {
   "cell_type": "code",
   "execution_count": 74,
   "metadata": {},
   "outputs": [
    {
     "name": "stdout",
     "output_type": "stream",
     "text": [
      "_________________________________________________________________\n",
      "Layer (type)                 Output Shape              Param #   \n",
      "=================================================================\n",
      "time_distributed_19 (TimeDis (None, 6, 4, 4, 1024)     3228864   \n",
      "_________________________________________________________________\n",
      "time_distributed_20 (TimeDis (None, 6, 16384)          0         \n",
      "_________________________________________________________________\n",
      "gru_10 (GRU)                 (None, 16)                787248    \n",
      "_________________________________________________________________\n",
      "dense_19 (Dense)             (None, 16)                272       \n",
      "_________________________________________________________________\n",
      "batch_normalization_10 (Batc (None, 16)                64        \n",
      "_________________________________________________________________\n",
      "activation_10 (Activation)   (None, 16)                0         \n",
      "_________________________________________________________________\n",
      "dropout_10 (Dropout)         (None, 16)                0         \n",
      "_________________________________________________________________\n",
      "dense_20 (Dense)             (None, 5)                 85        \n",
      "=================================================================\n",
      "Total params: 4,016,533\n",
      "Trainable params: 3,994,613\n",
      "Non-trainable params: 21,920\n",
      "_________________________________________________________________\n",
      "None\n"
     ]
    }
   ],
   "source": [
    "learning_rate = 0.001\n",
    "optimiser = keras.optimizers.SGD(lr=learning_rate, decay=1e-6, momentum=0.8, nesterov=True)#write your optimizer\n",
    "model.compile(optimizer=optimiser, loss='categorical_crossentropy', metrics=['categorical_accuracy'])\n",
    "print (model.summary())"
   ]
  },
  {
   "cell_type": "code",
   "execution_count": 75,
   "metadata": {},
   "outputs": [],
   "source": [
    "train_generator = generator_rnn(train_path, train_doc, batch_size)\n",
    "val_generator = generator_rnn(val_path, val_doc, batch_size)"
   ]
  },
  {
   "cell_type": "code",
   "execution_count": 76,
   "metadata": {},
   "outputs": [],
   "source": [
    "model_name = 'model_init_rnn' + '_' + str(curr_dt_time).replace(' ','').replace(':','_') + '/'\n",
    "    \n",
    "if not os.path.exists(model_name):\n",
    "    os.mkdir(model_name)\n",
    "        \n",
    "filepath = model_name + 'model-{epoch:05d}-{loss:.5f}-{categorical_accuracy:.5f}-{val_loss:.5f}-{val_categorical_accuracy:.5f}.h5'\n",
    "\n",
    "checkpoint = ModelCheckpoint(filepath, monitor='val_categorical_accuracy', verbose=1, save_best_only=True, save_weights_only=False, mode='auto', period=1)\n",
    "\n",
    "LR = ReduceLROnPlateau(monitor='val_loss', factor=0.5,\n",
    "                              patience=5, min_lr=0.00001, verbose=1)# write the REducelronplateau code here\n",
    "callbacks_list = [checkpoint, LR]"
   ]
  },
  {
   "cell_type": "code",
   "execution_count": 77,
   "metadata": {},
   "outputs": [],
   "source": [
    "if (num_train_sequences%batch_size) == 0:\n",
    "    steps_per_epoch = int(num_train_sequences/batch_size)\n",
    "else:\n",
    "    steps_per_epoch = (num_train_sequences//batch_size) + 1\n",
    "\n",
    "if (num_val_sequences%batch_size) == 0:\n",
    "    validation_steps = int(num_val_sequences/batch_size)\n",
    "else:\n",
    "    validation_steps = (num_val_sequences//batch_size) + 1"
   ]
  },
  {
   "cell_type": "code",
   "execution_count": 78,
   "metadata": {
    "scrolled": false
   },
   "outputs": [
    {
     "name": "stdout",
     "output_type": "stream",
     "text": [
      "Source path =  Project_data/val ; batch size = Source path =  Project_data/train ; batch size = 12\n",
      "Epoch 1/30\n",
      "12\n",
      "56/56 [==============================] - 35s 617ms/step - loss: 1.7282 - categorical_accuracy: 0.3095 - val_loss: 1.9623 - val_categorical_accuracy: 0.4537\n",
      "\n",
      "Epoch 00001: val_categorical_accuracy improved from -inf to 0.45370, saving model to model_init_rnn_2019-12-2213_51_53.907517/model-00001-1.72824-0.30952-1.96231-0.45370.h5\n",
      "Epoch 2/30\n",
      "56/56 [==============================] - 18s 323ms/step - loss: 1.2278 - categorical_accuracy: 0.5015 - val_loss: 1.4267 - val_categorical_accuracy: 0.6944\n",
      "\n",
      "Epoch 00002: val_categorical_accuracy improved from 0.45370 to 0.69444, saving model to model_init_rnn_2019-12-2213_51_53.907517/model-00002-1.22777-0.50149-1.42668-0.69444.h5\n",
      "Epoch 3/30\n",
      "56/56 [==============================] - 22s 390ms/step - loss: 1.0724 - categorical_accuracy: 0.5997 - val_loss: 1.2905 - val_categorical_accuracy: 0.7593\n",
      "\n",
      "Epoch 00003: val_categorical_accuracy improved from 0.69444 to 0.75926, saving model to model_init_rnn_2019-12-2213_51_53.907517/model-00003-1.07237-0.59970-1.29046-0.75926.h5\n",
      "Epoch 4/30\n",
      "56/56 [==============================] - 22s 388ms/step - loss: 0.8996 - categorical_accuracy: 0.6801 - val_loss: 1.3202 - val_categorical_accuracy: 0.6574\n",
      "\n",
      "Epoch 00004: val_categorical_accuracy did not improve from 0.75926\n",
      "Epoch 5/30\n",
      "56/56 [==============================] - 22s 388ms/step - loss: 0.7956 - categorical_accuracy: 0.7485 - val_loss: 1.3214 - val_categorical_accuracy: 0.8056\n",
      "\n",
      "Epoch 00005: val_categorical_accuracy improved from 0.75926 to 0.80556, saving model to model_init_rnn_2019-12-2213_51_53.907517/model-00005-0.79559-0.74851-1.32145-0.80556.h5\n",
      "Epoch 6/30\n",
      "56/56 [==============================] - 21s 384ms/step - loss: 0.7638 - categorical_accuracy: 0.7470 - val_loss: 1.0388 - val_categorical_accuracy: 0.8519\n",
      "\n",
      "Epoch 00006: val_categorical_accuracy improved from 0.80556 to 0.85185, saving model to model_init_rnn_2019-12-2213_51_53.907517/model-00006-0.76375-0.74702-1.03875-0.85185.h5\n",
      "Epoch 7/30\n",
      "56/56 [==============================] - 21s 383ms/step - loss: 0.7277 - categorical_accuracy: 0.7902 - val_loss: 1.0329 - val_categorical_accuracy: 0.7685\n",
      "\n",
      "Epoch 00007: val_categorical_accuracy did not improve from 0.85185\n",
      "Epoch 8/30\n",
      "56/56 [==============================] - 21s 383ms/step - loss: 0.6252 - categorical_accuracy: 0.8497 - val_loss: 0.9435 - val_categorical_accuracy: 0.7963\n",
      "\n",
      "Epoch 00008: val_categorical_accuracy did not improve from 0.85185\n",
      "Epoch 9/30\n",
      "56/56 [==============================] - 22s 386ms/step - loss: 0.5969 - categorical_accuracy: 0.8616 - val_loss: 1.0686 - val_categorical_accuracy: 0.8704\n",
      "\n",
      "Epoch 00009: val_categorical_accuracy improved from 0.85185 to 0.87037, saving model to model_init_rnn_2019-12-2213_51_53.907517/model-00009-0.59690-0.86161-1.06863-0.87037.h5\n",
      "Epoch 10/30\n",
      "56/56 [==============================] - 22s 387ms/step - loss: 0.5940 - categorical_accuracy: 0.8646 - val_loss: 0.9836 - val_categorical_accuracy: 0.7963\n",
      "\n",
      "Epoch 00010: val_categorical_accuracy did not improve from 0.87037\n",
      "Epoch 11/30\n",
      "56/56 [==============================] - 22s 385ms/step - loss: 0.5641 - categorical_accuracy: 0.8467 - val_loss: 1.0190 - val_categorical_accuracy: 0.9167\n",
      "\n",
      "Epoch 00011: val_categorical_accuracy improved from 0.87037 to 0.91667, saving model to model_init_rnn_2019-12-2213_51_53.907517/model-00011-0.56414-0.84673-1.01903-0.91667.h5\n",
      "Epoch 12/30\n",
      "56/56 [==============================] - 22s 385ms/step - loss: 0.5023 - categorical_accuracy: 0.8943 - val_loss: 1.0055 - val_categorical_accuracy: 0.9074\n",
      "\n",
      "Epoch 00012: val_categorical_accuracy did not improve from 0.91667\n",
      "Epoch 13/30\n",
      "56/56 [==============================] - 22s 386ms/step - loss: 0.4873 - categorical_accuracy: 0.8839 - val_loss: 1.1339 - val_categorical_accuracy: 0.8704\n",
      "\n",
      "Epoch 00013: val_categorical_accuracy did not improve from 0.91667\n",
      "\n",
      "Epoch 00013: ReduceLROnPlateau reducing learning rate to 0.0005000000237487257.\n",
      "Epoch 14/30\n",
      "56/56 [==============================] - 19s 335ms/step - loss: 0.5270 - categorical_accuracy: 0.8810 - val_loss: 1.0868 - val_categorical_accuracy: 0.8056\n",
      "\n",
      "Epoch 00014: val_categorical_accuracy did not improve from 0.91667\n",
      "Epoch 15/30\n",
      "56/56 [==============================] - 22s 399ms/step - loss: 0.4641 - categorical_accuracy: 0.8884 - val_loss: 0.9788 - val_categorical_accuracy: 0.8426\n",
      "\n",
      "Epoch 00015: val_categorical_accuracy did not improve from 0.91667\n",
      "Epoch 16/30\n",
      "56/56 [==============================] - 22s 402ms/step - loss: 0.4667 - categorical_accuracy: 0.8869 - val_loss: 1.0742 - val_categorical_accuracy: 0.7870\n",
      "\n",
      "Epoch 00016: val_categorical_accuracy did not improve from 0.91667\n",
      "Epoch 17/30\n",
      "56/56 [==============================] - 22s 399ms/step - loss: 0.4485 - categorical_accuracy: 0.8854 - val_loss: 0.9809 - val_categorical_accuracy: 0.8611\n",
      "\n",
      "Epoch 00017: val_categorical_accuracy did not improve from 0.91667\n",
      "Epoch 18/30\n",
      "56/56 [==============================] - 23s 408ms/step - loss: 0.4533 - categorical_accuracy: 0.8690 - val_loss: 0.9685 - val_categorical_accuracy: 0.8426\n",
      "\n",
      "Epoch 00018: val_categorical_accuracy did not improve from 0.91667\n",
      "\n",
      "Epoch 00018: ReduceLROnPlateau reducing learning rate to 0.0002500000118743628.\n",
      "Epoch 19/30\n",
      "56/56 [==============================] - 23s 403ms/step - loss: 0.4330 - categorical_accuracy: 0.9048 - val_loss: 0.9297 - val_categorical_accuracy: 0.8333\n",
      "\n",
      "Epoch 00019: val_categorical_accuracy did not improve from 0.91667\n",
      "Epoch 20/30\n",
      "56/56 [==============================] - 23s 405ms/step - loss: 0.4838 - categorical_accuracy: 0.8705 - val_loss: 1.0024 - val_categorical_accuracy: 0.8611\n",
      "\n",
      "Epoch 00020: val_categorical_accuracy did not improve from 0.91667\n",
      "Epoch 21/30\n",
      "56/56 [==============================] - 22s 396ms/step - loss: 0.4384 - categorical_accuracy: 0.8958 - val_loss: 0.8352 - val_categorical_accuracy: 0.8704\n",
      "\n",
      "Epoch 00021: val_categorical_accuracy did not improve from 0.91667\n",
      "Epoch 22/30\n",
      "56/56 [==============================] - 23s 402ms/step - loss: 0.4752 - categorical_accuracy: 0.8914 - val_loss: 0.9081 - val_categorical_accuracy: 0.8704\n",
      "\n",
      "Epoch 00022: val_categorical_accuracy did not improve from 0.91667\n",
      "Epoch 23/30\n",
      "56/56 [==============================] - 23s 403ms/step - loss: 0.4067 - categorical_accuracy: 0.9107 - val_loss: 1.0709 - val_categorical_accuracy: 0.8426\n",
      "\n",
      "Epoch 00023: val_categorical_accuracy did not improve from 0.91667\n",
      "Epoch 24/30\n",
      "56/56 [==============================] - 22s 400ms/step - loss: 0.4275 - categorical_accuracy: 0.9092 - val_loss: 0.8216 - val_categorical_accuracy: 0.8426\n",
      "\n",
      "Epoch 00024: val_categorical_accuracy did not improve from 0.91667\n",
      "Epoch 25/30\n",
      "56/56 [==============================] - 22s 400ms/step - loss: 0.4521 - categorical_accuracy: 0.8884 - val_loss: 0.9045 - val_categorical_accuracy: 0.8704\n",
      "\n",
      "Epoch 00025: val_categorical_accuracy did not improve from 0.91667\n",
      "Epoch 26/30\n",
      "56/56 [==============================] - 23s 403ms/step - loss: 0.4762 - categorical_accuracy: 0.8795 - val_loss: 0.9682 - val_categorical_accuracy: 0.8333\n",
      "\n",
      "Epoch 00026: val_categorical_accuracy did not improve from 0.91667\n",
      "Epoch 27/30\n",
      "56/56 [==============================] - 22s 398ms/step - loss: 0.4344 - categorical_accuracy: 0.9003 - val_loss: 0.8023 - val_categorical_accuracy: 0.8241\n",
      "\n",
      "Epoch 00027: val_categorical_accuracy did not improve from 0.91667\n",
      "Epoch 28/30\n",
      "56/56 [==============================] - 22s 397ms/step - loss: 0.4470 - categorical_accuracy: 0.8958 - val_loss: 1.1038 - val_categorical_accuracy: 0.8333\n",
      "\n",
      "Epoch 00028: val_categorical_accuracy did not improve from 0.91667\n",
      "Epoch 29/30\n",
      "56/56 [==============================] - 22s 399ms/step - loss: 0.4452 - categorical_accuracy: 0.8884 - val_loss: 0.9261 - val_categorical_accuracy: 0.7778\n",
      "\n",
      "Epoch 00029: val_categorical_accuracy did not improve from 0.91667\n",
      "Epoch 30/30\n",
      "56/56 [==============================] - 22s 396ms/step - loss: 0.4446 - categorical_accuracy: 0.9003 - val_loss: 1.1563 - val_categorical_accuracy: 0.8519\n",
      "\n",
      "Epoch 00030: val_categorical_accuracy did not improve from 0.91667\n"
     ]
    }
   ],
   "source": [
    "history = model.fit_generator(train_generator, steps_per_epoch=steps_per_epoch, epochs=num_epochs, verbose=1, \n",
    "                    callbacks=callbacks_list, validation_data=val_generator, \n",
    "                    validation_steps=validation_steps, class_weight=None, workers=1, initial_epoch=0)"
   ]
  },
  {
   "cell_type": "code",
   "execution_count": 71,
   "metadata": {},
   "outputs": [
    {
     "data": {
      "image/png": "[encoded data removed]",
      "text/plain": [
       "<Figure size 432x288 with 1 Axes>"
      ]
     },
     "metadata": {},
     "output_type": "display_data"
    },
    {
     "data": {
      "image/png": "[encoded data removed]",
      "text/plain": [
       "<Figure size 432x288 with 1 Axes>"
      ]
     },
     "metadata": {},
     "output_type": "display_data"
    }
   ],
   "source": [
    "# Plot training & validation accuracy values\n",
    "plt.plot(history.history['categorical_accuracy'])\n",
    "plt.plot(history.history['val_categorical_accuracy'])\n",
    "plt.title('Model accuracy')\n",
    "plt.ylabel('Accuracy')\n",
    "plt.xlabel('Epoch')\n",
    "plt.legend(['Train', 'Test'], loc='upper left')\n",
    "plt.show()\n",
    "\n",
    "# Plot training & validation loss values\n",
    "plt.plot(history.history['loss'])\n",
    "plt.plot(history.history['val_loss'])\n",
    "plt.title('Model loss')\n",
    "plt.ylabel('Loss')\n",
    "plt.xlabel('Epoch')\n",
    "plt.legend(['Train', 'Test'], loc='upper left')\n",
    "plt.show()"
   ]
  },
  {
   "cell_type": "code",
   "execution_count": null,
   "metadata": {},
   "outputs": [],
   "source": []
  }
 ],
 "metadata": {
  "kernelspec": {
   "display_name": "Python 3",
   "language": "python",
   "name": "python3"
  },
  "language_info": {
   "codemirror_mode": {
    "name": "ipython",
    "version": 3
   },
   "file_extension": ".py",
   "mimetype": "text/x-python",
   "name": "python",
   "nbconvert_exporter": "python",
   "pygments_lexer": "ipython3",
   "version": "3.6.8"
  }
 },
 "nbformat": 4,
 "nbformat_minor": 2
}
