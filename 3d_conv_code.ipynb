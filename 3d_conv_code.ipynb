{
 "cells": [
  {
   "cell_type": "markdown",
   "metadata": {},
   "source": [
    "# Gesture Recognition\n",
    "In this group project, you are going to build a 3D Conv model that will be able to predict the 5 gestures correctly. Please import the following libraries to get started."
   ]
  },
  {
   "cell_type": "code",
   "execution_count": 2,
   "metadata": {},
   "outputs": [],
   "source": [
    "import numpy as np\n",
    "import os\n",
    "from scipy.misc import imread, imresize\n",
    "import datetime\n",
    "import os"
   ]
  },
  {
   "cell_type": "markdown",
   "metadata": {},
   "source": [
    "We set the random seed so that the results don't vary drastically."
   ]
  },
  {
   "cell_type": "code",
   "execution_count": 3,
   "metadata": {},
   "outputs": [],
   "source": [
    "np.random.seed(30)\n",
    "import random as rn\n",
    "rn.seed(30)\n",
    "from keras import backend as K\n",
    "import tensorflow as tf\n",
    "tf.set_random_seed(30)\n",
    "import keras\n",
    "import warnings\n",
    "warnings.filterwarnings(\"ignore\")\n",
    "import matplotlib.pyplot as plt"
   ]
  },
  {
   "cell_type": "code",
   "execution_count": 4,
   "metadata": {},
   "outputs": [
    {
     "data": {
      "text/plain": [
       "['/job:localhost/replica:0/task:0/device:GPU:0']"
      ]
     },
     "execution_count": 4,
     "metadata": {},
     "output_type": "execute_result"
    }
   ],
   "source": [
    "K.tensorflow_backend._get_available_gpus()"
   ]
  },
  {
   "cell_type": "markdown",
   "metadata": {},
   "source": [
    "In this block, you read the folder names for training and validation. You also set the `batch_size` here. Note that you set the batch size in such a way that you are able to use the GPU in full capacity. You keep increasing the batch size until the machine throws an error."
   ]
  },
  {
   "cell_type": "code",
   "execution_count": 5,
   "metadata": {},
   "outputs": [],
   "source": [
    "train_doc = np.random.permutation(open('Project_data/train.csv').readlines())\n",
    "val_doc = np.random.permutation(open('Project_data/val.csv').readlines())\n",
    "batch_size = 12#experiment with the batch size"
   ]
  },
  {
   "cell_type": "code",
   "execution_count": 6,
   "metadata": {},
   "outputs": [
    {
     "data": {
      "text/plain": [
       "663"
      ]
     },
     "execution_count": 6,
     "metadata": {},
     "output_type": "execute_result"
    }
   ],
   "source": [
    "len(train_doc)"
   ]
  },
  {
   "cell_type": "markdown",
   "metadata": {},
   "source": [
    "## Generator\n",
    "This is one of the most important part of the code. The overall structure of the generator has been given. In the generator, you are going to preprocess the images as you have images of 2 different dimensions as well as create a batch of video frames. You have to experiment with `img_idx`, `y`,`z` and normalization such that you get high accuracy."
   ]
  },
  {
   "cell_type": "code",
   "execution_count": 7,
   "metadata": {},
   "outputs": [],
   "source": [
    "def generator(source_path, folder_list, batch_size):\n",
    "    print( 'Source path = ', source_path, '; batch size =', batch_size)\n",
    "    #img_idx = list(range(0, 30, 2)) #create a list of image numbers you want to use for a particular video\n",
    "    img_idx = [4,5,6,15,16,17,27,28,29]\n",
    "    x = len(img_idx)\n",
    "    y = 120\n",
    "    z = 120\n",
    "    while True:\n",
    "        t = np.random.permutation(folder_list)\n",
    "        num_batches = len(folder_list)//batch_size # calculate the number of batches\n",
    "        for batch in range(num_batches): # we iterate over the number of batches\n",
    "            batch_data = np.zeros((batch_size,x,y,z,3)) # x is the number of images you use for each video, (y,z) is the final size of the input images and 3 is the number of channels RGB\n",
    "            batch_labels = np.zeros((batch_size,5)) # batch_labels is the one hot representation of the output\n",
    "            for folder in range(batch_size): # iterate over the batch_size\n",
    "                imgs = os.listdir(source_path+'/'+ t[folder + (batch*batch_size)].split(';')[0]) # read all the images in the folder\n",
    "                imgs.sort(reverse=True)\n",
    "                for idx,item in enumerate(img_idx): #  Iterate iver the frames/images of a folder to read them in\n",
    "                    image = imread(source_path+'/'+ t[folder + (batch*batch_size)].strip().split(';')[0]+'/'+imgs[item]).astype(np.float32)\n",
    "                    image_resize = imresize(image, (y, z))\n",
    "                    #crop the images and resize them. Note that the images are of 2 different shape \n",
    "                    #and the conv3D will throw error if the inputs in a batch have different shapes\n",
    "                    \n",
    "                    batch_data[folder,idx,:,:,0] = (image_resize[:,:,0] - image_resize.mean())/image_resize.std()#normalise and feed in the image\n",
    "                    batch_data[folder,idx,:,:,1] = (image_resize[:,:,1] - image_resize.mean())/image_resize.std()#normalise and feed in the image\n",
    "                    batch_data[folder,idx,:,:,2] = (image_resize[:,:,2] - image_resize.mean())/image_resize.std()#normalise and feed in the image\n",
    "                    \n",
    "                batch_labels[folder, int(t[folder + (batch*batch_size)].strip().split(';')[2])] = 1\n",
    "            yield batch_data, batch_labels #you yield the batch_data and the batch_labels, remember what does yield do\n",
    "\n",
    "        \n",
    "        # write the code for the remaining data points which are left after full batches\n",
    "        for folder_extra in range(batch_size):\n",
    "            imgs = os.listdir(source_path+'/'+ t[(folder_extra + (num_batches*batch_size))%(len(folder_list))].split(';')[0])\n",
    "            imgs.sort(reverse=True)\n",
    "            for idx,item in enumerate(img_idx): #  Iterate iver the frames/images of a folder to read them in\n",
    "                    image = imread(source_path+'/'+ t[(folder_extra + (num_batches*batch_size))%(len(folder_list))].strip().split(';')[0]+'/'+imgs[item]).astype(np.float32)\n",
    "                    image_resize = imresize(image, (y, z))\n",
    "                    #crop the images and resize them. Note that the images are of 2 different shape \n",
    "                    #and the conv3D will throw error if the inputs in a batch have different shapes\n",
    "                    \n",
    "                    batch_data[folder,idx,:,:,0] = (image_resize[:,:,0] - image_resize.mean())/image_resize.std()#normalise and feed in the image\n",
    "                    batch_data[folder,idx,:,:,1] = (image_resize[:,:,1] - image_resize.mean())/image_resize.std()#normalise and feed in the image\n",
    "                    batch_data[folder,idx,:,:,2] = (image_resize[:,:,2] - image_resize.mean())/image_resize.std()#normalise and feed in the image\n",
    "                    \n",
    "            batch_labels[folder_extra, int( t[(folder_extra + (num_batches*batch_size))%(len(folder_list))].strip().split(';')[2])] = 1\n",
    "        yield batch_data, batch_labels #you yield the batch_data and the batch_labels, remember what does yield do\n",
    "            \n"
   ]
  },
  {
   "cell_type": "code",
   "execution_count": null,
   "metadata": {},
   "outputs": [],
   "source": [
    "def generator1(source_path, folder_list, batch_size):\n",
    "    print( 'Source path = ', source_path, '; batch size =', batch_size)\n",
    "    #img_idx = list(range(0, 30, 2)) #create a list of image numbers you want to use for a particular video\n",
    "    img_idx = [4,5,6,15,27,28,29]\n",
    "    x = len(img_idx)\n",
    "    y = 120\n",
    "    z = 120\n",
    "    \n",
    "    t = folder_list#np.random.permutation(folder_list)\n",
    "    num_batches = len(folder_list)//batch_size # calculate the number of batches\n",
    "    for batch in range(num_batches): # we iterate over the number of batches\n",
    "        batch_data = np.zeros((batch_size,x,y,z,3)) # x is the number of images you use for each video, (y,z) is the final size of the input images and 3 is the number of channels RGB\n",
    "        batch_labels = np.zeros((batch_size,5)) # batch_labels is the one hot representation of the output\n",
    "        for folder in range(batch_size): # iterate over the batch_size\n",
    "            imgs = os.listdir(source_path+'/'+ t[folder + (batch*batch_size)].split(';')[0]) # read all the images in the folder\n",
    "            imgs.sort(reverse=True)\n",
    "            for idx,item in enumerate(img_idx): #  Iterate iver the frames/images of a folder to read them in\n",
    "                image = imread(source_path+'/'+ t[folder + (batch*batch_size)].strip().split(';')[0]+'/'+imgs[item]).astype(np.float32)\n",
    "                image_resize = imresize(image, (y, z))\n",
    "                #crop the images and resize them. Note that the images are of 2 different shape \n",
    "                #and the conv3D will throw error if the inputs in a batch have different shapes\n",
    "                    \n",
    "                batch_data[folder,idx,:,:,0] = (image_resize[:,:,0] - image_resize[:,:,0].mean())/image_resize[:,:,0].std()#normalise and feed in the image\n",
    "                batch_data[folder,idx,:,:,1] = (image_resize[:,:,1] - image_resize[:,:,1].mean())/image_resize[:,:,1].std()#normalise and feed in the image\n",
    "                batch_data[folder,idx,:,:,2] = (image_resize[:,:,2] - image_resize[:,:,2].mean())/image_resize[:,:,2].std()#normalise and feed in the image\n",
    "                    \n",
    "            batch_labels[folder, int(t[folder + (batch*batch_size)].strip().split(';')[2])] = 1\n",
    "        yield batch_data, batch_labels #you yield the batch_data and the batch_labels, remember what does yield do\n",
    "\n",
    "        \n",
    "    # write the code for the remaining data points which are left after full batches\n",
    "    for folder_extra in range(batch_size):\n",
    "        imgs = os.listdir(source_path+'/'+ t[(folder_extra + (num_batches*batch_size))%(len(folder_list))].split(';')[0])\n",
    "        imgs.sort(reverse=True)\n",
    "        for idx,item in enumerate(img_idx): #  Iterate iver the frames/images of a folder to read them in\n",
    "                image = imread(source_path+'/'+ t[(folder_extra + (num_batches*batch_size))%(len(folder_list))].strip().split(';')[0]+'/'+imgs[item]).astype(np.float32)\n",
    "                image_resize = imresize(image, (y, z))\n",
    "                #crop the images and resize them. Note that the images are of 2 different shape \n",
    "                #and the conv3D will throw error if the inputs in a batch have different shapes\n",
    "                    \n",
    "                batch_data[folder,idx,:,:,0] = (image_resize[:,:,0] - image_resize[:,:,0].mean())/image_resize[:,:,0].std()#normalise and feed in the image\n",
    "                batch_data[folder,idx,:,:,1] = (image_resize[:,:,1] - image_resize[:,:,1].mean())/image_resize[:,:,1].std()#normalise and feed in the image\n",
    "                batch_data[folder,idx,:,:,2] = (image_resize[:,:,2] - image_resize[:,:,2].mean())/image_resize[:,:,2].std()#normalise and feed in the image\n",
    "                \n",
    "        batch_labels[folder_extra, int( t[(folder_extra + (num_batches*batch_size))%(len(folder_list))].strip().split(';')[2])] = 1\n",
    "    yield batch_data, batch_labels #you yield the batch_data and the batch_labels, remember what does yield do\n",
    "            \n"
   ]
  },
  {
   "cell_type": "code",
   "execution_count": null,
   "metadata": {
    "scrolled": true
   },
   "outputs": [],
   "source": [
    "next(train_generator)"
   ]
  },
  {
   "cell_type": "markdown",
   "metadata": {},
   "source": [
    "Note here that a video is represented above in the generator as (number of images, height, width, number of channels). Take this into consideration while creating the model architecture."
   ]
  },
  {
   "cell_type": "code",
   "execution_count": 36,
   "metadata": {},
   "outputs": [
    {
     "name": "stdout",
     "output_type": "stream",
     "text": [
      "# training sequences = 663\n",
      "# validation sequences = 100\n",
      "# epochs = 30\n"
     ]
    }
   ],
   "source": [
    "curr_dt_time = datetime.datetime.now()\n",
    "train_path = 'Project_data/train'\n",
    "val_path = 'Project_data/val'\n",
    "num_train_sequences = len(train_doc)\n",
    "print('# training sequences =', num_train_sequences)\n",
    "num_val_sequences = len(val_doc)\n",
    "print('# validation sequences =', num_val_sequences)\n",
    "num_epochs = 30# choose the number of epochs\n",
    "print ('# epochs =', num_epochs)"
   ]
  },
  {
   "cell_type": "markdown",
   "metadata": {},
   "source": [
    "## Model\n",
    "Here you make the model using different functionalities that Keras provides. Remember to use `Conv3D` and `MaxPooling3D` and not `Conv2D` and `Maxpooling2D` for a 3D convolution model. You would want to use `TimeDistributed` while building a Conv2D + RNN model. Also remember that the last layer is the softmax. Design the network in such a way that the model is able to give good accuracy on the least number of parameters so that it can fit in the memory of the webcam."
   ]
  },
  {
   "cell_type": "code",
   "execution_count": 43,
   "metadata": {},
   "outputs": [],
   "source": [
    "from keras.models import Sequential, Model\n",
    "from keras.layers import Dense, GRU, Flatten, TimeDistributed, Flatten, BatchNormalization, Activation\n",
    "from keras.layers.convolutional import Conv3D, MaxPooling3D\n",
    "from keras.layers import Dropout\n",
    "from keras.callbacks import ModelCheckpoint, ReduceLROnPlateau\n",
    "from keras import optimizers\n",
    "batch_size = 12\n",
    "x = 9\n",
    "y = 120\n",
    "z = 120\n",
    "no_classes = 5\n",
    "#write your model here\n",
    "#Model 1 using 2 con3d layers, 2 maxpool 3d and 2 fully connected\n",
    "#Result: There seems to be overfitting as the validation loss is increasing while train loss is increasing\n",
    "model = Sequential()\n",
    "\n",
    "model.add(Conv3D(16, kernel_size = (3,3,3),padding='same', activation='relu',  input_shape=(x,y,z,3)))\n",
    "model.add(MaxPooling3D(pool_size=(2,2,2)))\n",
    "#model.add(Dropout(0.2))\n",
    "\n",
    "model.add(Conv3D(32, kernel_size = (3,3,3),padding='same', activation='relu'))\n",
    "model.add(MaxPooling3D(pool_size=(1, 2, 2)))\n",
    "model.add(Dropout(0.2))\n",
    "\n",
    "model.add(Conv3D(64, kernel_size = (3,3,3),padding='same', activation='relu'))\n",
    "model.add(MaxPooling3D(pool_size=(1, 2, 2)))\n",
    "#model.add(Dropout(0.2))\n",
    "\n",
    "model.add(Flatten())\n",
    "\n",
    "model.add(Dense(64, activation = 'relu'))\n",
    "model.add(Dropout(0.3))\n",
    "model.add(Dense(128, activation = 'relu'))\n",
    "model.add(Dropout(0.3))\n",
    "model.add(Dense(no_classes, activation = 'softmax'))"
   ]
  },
  {
   "cell_type": "markdown",
   "metadata": {},
   "source": [
    "Now that you have written the model, the next step is to `compile` the model. When you print the `summary` of the model, you'll see the total number of parameters you have to train."
   ]
  },
  {
   "cell_type": "code",
   "execution_count": 44,
   "metadata": {
    "scrolled": true
   },
   "outputs": [
    {
     "name": "stdout",
     "output_type": "stream",
     "text": [
      "_________________________________________________________________\n",
      "Layer (type)                 Output Shape              Param #   \n",
      "=================================================================\n",
      "conv3d_22 (Conv3D)           (None, 9, 120, 120, 16)   1312      \n",
      "_________________________________________________________________\n",
      "max_pooling3d_22 (MaxPooling (None, 4, 60, 60, 16)     0         \n",
      "_________________________________________________________________\n",
      "conv3d_23 (Conv3D)           (None, 4, 60, 60, 32)     13856     \n",
      "_________________________________________________________________\n",
      "max_pooling3d_23 (MaxPooling (None, 4, 30, 30, 32)     0         \n",
      "_________________________________________________________________\n",
      "dropout_22 (Dropout)         (None, 4, 30, 30, 32)     0         \n",
      "_________________________________________________________________\n",
      "conv3d_24 (Conv3D)           (None, 4, 30, 30, 64)     55360     \n",
      "_________________________________________________________________\n",
      "max_pooling3d_24 (MaxPooling (None, 4, 15, 15, 64)     0         \n",
      "_________________________________________________________________\n",
      "flatten_8 (Flatten)          (None, 57600)             0         \n",
      "_________________________________________________________________\n",
      "dense_22 (Dense)             (None, 64)                3686464   \n",
      "_________________________________________________________________\n",
      "dropout_23 (Dropout)         (None, 64)                0         \n",
      "_________________________________________________________________\n",
      "dense_23 (Dense)             (None, 128)               8320      \n",
      "_________________________________________________________________\n",
      "dropout_24 (Dropout)         (None, 128)               0         \n",
      "_________________________________________________________________\n",
      "dense_24 (Dense)             (None, 5)                 645       \n",
      "=================================================================\n",
      "Total params: 3,765,957\n",
      "Trainable params: 3,765,957\n",
      "Non-trainable params: 0\n",
      "_________________________________________________________________\n",
      "None\n"
     ]
    }
   ],
   "source": [
    "learning_rate = 0.001\n",
    "optimiser = keras.optimizers.SGD(lr=learning_rate, decay=1e-6, momentum=0.8, nesterov=True)#write your optimizer\n",
    "model.compile(optimizer=optimiser, loss='categorical_crossentropy', metrics=['categorical_accuracy'])\n",
    "print (model.summary())"
   ]
  },
  {
   "cell_type": "markdown",
   "metadata": {},
   "source": [
    "Let us create the `train_generator` and the `val_generator` which will be used in `.fit_generator`."
   ]
  },
  {
   "cell_type": "code",
   "execution_count": 45,
   "metadata": {},
   "outputs": [],
   "source": [
    "train_generator = generator(train_path, train_doc, batch_size)\n",
    "val_generator = generator(val_path, val_doc, batch_size)"
   ]
  },
  {
   "cell_type": "code",
   "execution_count": 46,
   "metadata": {},
   "outputs": [],
   "source": [
    "model_name = 'model_init' + '_' + str(curr_dt_time).replace(' ','').replace(':','_') + '/'\n",
    "    \n",
    "if not os.path.exists(model_name):\n",
    "    os.mkdir(model_name)\n",
    "        \n",
    "filepath = model_name + 'model-{epoch:05d}-{loss:.5f}-{categorical_accuracy:.5f}-{val_loss:.5f}-{val_categorical_accuracy:.5f}.h5'\n",
    "\n",
    "checkpoint = ModelCheckpoint(filepath, monitor='val_categorical_accuracy', verbose=1, save_best_only=True, save_weights_only=False, mode='auto', period=1)\n",
    "\n",
    "LR = ReduceLROnPlateau(monitor='val_loss', factor=0.5,\n",
    "                              patience=5, min_lr=0.00001, verbose=1)# write the REducelronplateau code here\n",
    "callbacks_list = [checkpoint, LR]"
   ]
  },
  {
   "cell_type": "markdown",
   "metadata": {},
   "source": [
    "The `steps_per_epoch` and `validation_steps` are used by `fit_generator` to decide the number of next() calls it need to make."
   ]
  },
  {
   "cell_type": "code",
   "execution_count": 47,
   "metadata": {},
   "outputs": [],
   "source": [
    "if (num_train_sequences%batch_size) == 0:\n",
    "    steps_per_epoch = int(num_train_sequences/batch_size)\n",
    "else:\n",
    "    steps_per_epoch = (num_train_sequences//batch_size) + 1\n",
    "\n",
    "if (num_val_sequences%batch_size) == 0:\n",
    "    validation_steps = int(num_val_sequences/batch_size)\n",
    "else:\n",
    "    validation_steps = (num_val_sequences//batch_size) + 1"
   ]
  },
  {
   "cell_type": "markdown",
   "metadata": {},
   "source": [
    "Let us now fit the model. This will start training the model and with the help of the checkpoints, you'll be able to save the model at the end of each epoch."
   ]
  },
  {
   "cell_type": "code",
   "execution_count": 48,
   "metadata": {
    "scrolled": false
   },
   "outputs": [
    {
     "name": "stdout",
     "output_type": "stream",
     "text": [
      "Source path =  Project_data/val ; batch size = 12\n",
      "Source path =  Project_data/train ; batch size = 12\n",
      "Epoch 1/30\n",
      "56/56 [==============================] - 31s 556ms/step - loss: 1.6527 - categorical_accuracy: 0.1949 - val_loss: 1.8970 - val_categorical_accuracy: 0.3148\n",
      "\n",
      "Epoch 00001: val_categorical_accuracy improved from -inf to 0.31481, saving model to model_init_2019-12-2110_53_26.774773/model-00001-1.65269-0.19494-1.89704-0.31481.h5\n",
      "Epoch 2/30\n",
      "56/56 [==============================] - 30s 536ms/step - loss: 1.6259 - categorical_accuracy: 0.2277 - val_loss: 1.9243 - val_categorical_accuracy: 0.2315\n",
      "\n",
      "Epoch 00002: val_categorical_accuracy did not improve from 0.31481\n",
      "Epoch 3/30\n",
      "56/56 [==============================] - 30s 542ms/step - loss: 1.5963 - categorical_accuracy: 0.2530 - val_loss: 1.9006 - val_categorical_accuracy: 0.2963\n",
      "\n",
      "Epoch 00003: val_categorical_accuracy did not improve from 0.31481\n",
      "Epoch 4/30\n",
      "56/56 [==============================] - 30s 542ms/step - loss: 1.5884 - categorical_accuracy: 0.2708 - val_loss: 1.8433 - val_categorical_accuracy: 0.3519\n",
      "\n",
      "Epoch 00004: val_categorical_accuracy improved from 0.31481 to 0.35185, saving model to model_init_2019-12-2110_53_26.774773/model-00004-1.58837-0.27083-1.84328-0.35185.h5\n",
      "Epoch 5/30\n",
      "56/56 [==============================] - 30s 535ms/step - loss: 1.5494 - categorical_accuracy: 0.3155 - val_loss: 1.8320 - val_categorical_accuracy: 0.4444\n",
      "\n",
      "Epoch 00005: val_categorical_accuracy improved from 0.35185 to 0.44444, saving model to model_init_2019-12-2110_53_26.774773/model-00005-1.54939-0.31548-1.83196-0.44444.h5\n",
      "Epoch 6/30\n",
      "56/56 [==============================] - 30s 542ms/step - loss: 1.4859 - categorical_accuracy: 0.3765 - val_loss: 1.7178 - val_categorical_accuracy: 0.4444\n",
      "\n",
      "Epoch 00006: val_categorical_accuracy did not improve from 0.44444\n",
      "Epoch 7/30\n",
      "56/56 [==============================] - 30s 538ms/step - loss: 1.4065 - categorical_accuracy: 0.3869 - val_loss: 1.7260 - val_categorical_accuracy: 0.5278\n",
      "\n",
      "Epoch 00007: val_categorical_accuracy improved from 0.44444 to 0.52778, saving model to model_init_2019-12-2110_53_26.774773/model-00007-1.40654-0.38690-1.72601-0.52778.h5\n",
      "Epoch 8/30\n",
      "56/56 [==============================] - 31s 545ms/step - loss: 1.2887 - categorical_accuracy: 0.4896 - val_loss: 1.5541 - val_categorical_accuracy: 0.5278\n",
      "\n",
      "Epoch 00008: val_categorical_accuracy did not improve from 0.52778\n",
      "Epoch 9/30\n",
      "56/56 [==============================] - 31s 545ms/step - loss: 1.1391 - categorical_accuracy: 0.5595 - val_loss: 1.3873 - val_categorical_accuracy: 0.5741\n",
      "\n",
      "Epoch 00009: val_categorical_accuracy improved from 0.52778 to 0.57407, saving model to model_init_2019-12-2110_53_26.774773/model-00009-1.13915-0.55952-1.38734-0.57407.h5\n",
      "Epoch 10/30\n",
      "56/56 [==============================] - 30s 539ms/step - loss: 0.9718 - categorical_accuracy: 0.6458 - val_loss: 1.3681 - val_categorical_accuracy: 0.5833\n",
      "\n",
      "Epoch 00010: val_categorical_accuracy improved from 0.57407 to 0.58333, saving model to model_init_2019-12-2110_53_26.774773/model-00010-0.97177-0.64583-1.36809-0.58333.h5\n",
      "Epoch 11/30\n",
      "56/56 [==============================] - 30s 539ms/step - loss: 0.8942 - categorical_accuracy: 0.6935 - val_loss: 1.1284 - val_categorical_accuracy: 0.6759\n",
      "\n",
      "Epoch 00011: val_categorical_accuracy improved from 0.58333 to 0.67593, saving model to model_init_2019-12-2110_53_26.774773/model-00011-0.89420-0.69345-1.12838-0.67593.h5\n",
      "Epoch 12/30\n",
      "56/56 [==============================] - 31s 548ms/step - loss: 0.8244 - categorical_accuracy: 0.6920 - val_loss: 1.3311 - val_categorical_accuracy: 0.6574\n",
      "\n",
      "Epoch 00012: val_categorical_accuracy did not improve from 0.67593\n",
      "Epoch 13/30\n",
      "56/56 [==============================] - 30s 543ms/step - loss: 0.7833 - categorical_accuracy: 0.7381 - val_loss: 1.3759 - val_categorical_accuracy: 0.6204\n",
      "\n",
      "Epoch 00013: val_categorical_accuracy did not improve from 0.67593\n",
      "Epoch 14/30\n",
      "56/56 [==============================] - 30s 542ms/step - loss: 0.6692 - categorical_accuracy: 0.7842 - val_loss: 1.2808 - val_categorical_accuracy: 0.7222\n",
      "\n",
      "Epoch 00014: val_categorical_accuracy improved from 0.67593 to 0.72222, saving model to model_init_2019-12-2110_53_26.774773/model-00014-0.66920-0.78423-1.28083-0.72222.h5\n",
      "Epoch 15/30\n",
      "56/56 [==============================] - 31s 545ms/step - loss: 0.6236 - categorical_accuracy: 0.7812 - val_loss: 1.1598 - val_categorical_accuracy: 0.7407\n",
      "\n",
      "Epoch 00015: val_categorical_accuracy improved from 0.72222 to 0.74074, saving model to model_init_2019-12-2110_53_26.774773/model-00015-0.62362-0.78125-1.15980-0.74074.h5\n",
      "Epoch 16/30\n",
      "56/56 [==============================] - 30s 539ms/step - loss: 0.5351 - categorical_accuracy: 0.8482 - val_loss: 1.3179 - val_categorical_accuracy: 0.6389\n",
      "\n",
      "Epoch 00016: val_categorical_accuracy did not improve from 0.74074\n",
      "\n",
      "Epoch 00016: ReduceLROnPlateau reducing learning rate to 0.0005000000237487257.\n",
      "Epoch 17/30\n",
      "56/56 [==============================] - 30s 540ms/step - loss: 0.5880 - categorical_accuracy: 0.8333 - val_loss: 1.4701 - val_categorical_accuracy: 0.7315\n",
      "\n",
      "Epoch 00017: val_categorical_accuracy did not improve from 0.74074\n",
      "Epoch 18/30\n",
      "56/56 [==============================] - 31s 547ms/step - loss: 0.4892 - categorical_accuracy: 0.8720 - val_loss: 1.3301 - val_categorical_accuracy: 0.7593\n",
      "\n",
      "Epoch 00018: val_categorical_accuracy improved from 0.74074 to 0.75926, saving model to model_init_2019-12-2110_53_26.774773/model-00018-0.48919-0.87202-1.33012-0.75926.h5\n",
      "Epoch 19/30\n",
      "56/56 [==============================] - 30s 541ms/step - loss: 0.4509 - categorical_accuracy: 0.8750 - val_loss: 1.4954 - val_categorical_accuracy: 0.6296\n",
      "\n",
      "Epoch 00019: val_categorical_accuracy did not improve from 0.75926\n",
      "Epoch 20/30\n",
      "56/56 [==============================] - 31s 548ms/step - loss: 0.4330 - categorical_accuracy: 0.8720 - val_loss: 1.3726 - val_categorical_accuracy: 0.7037\n",
      "\n",
      "Epoch 00020: val_categorical_accuracy did not improve from 0.75926\n",
      "Epoch 21/30\n",
      "56/56 [==============================] - 30s 545ms/step - loss: 0.4233 - categorical_accuracy: 0.8765 - val_loss: 1.3489 - val_categorical_accuracy: 0.7037\n",
      "\n",
      "Epoch 00021: val_categorical_accuracy did not improve from 0.75926\n",
      "\n",
      "Epoch 00021: ReduceLROnPlateau reducing learning rate to 0.0002500000118743628.\n",
      "Epoch 22/30\n",
      "56/56 [==============================] - 30s 540ms/step - loss: 0.3927 - categorical_accuracy: 0.9122 - val_loss: 1.2293 - val_categorical_accuracy: 0.7685\n",
      "\n",
      "Epoch 00022: val_categorical_accuracy improved from 0.75926 to 0.76852, saving model to model_init_2019-12-2110_53_26.774773/model-00022-0.39269-0.91220-1.22927-0.76852.h5\n",
      "Epoch 23/30\n",
      "56/56 [==============================] - 31s 546ms/step - loss: 0.4136 - categorical_accuracy: 0.8973 - val_loss: 1.3274 - val_categorical_accuracy: 0.7593\n",
      "\n",
      "Epoch 00023: val_categorical_accuracy did not improve from 0.76852\n",
      "Epoch 24/30\n",
      "56/56 [==============================] - 30s 541ms/step - loss: 0.4103 - categorical_accuracy: 0.9048 - val_loss: 1.6353 - val_categorical_accuracy: 0.7315\n",
      "\n",
      "Epoch 00024: val_categorical_accuracy did not improve from 0.76852\n",
      "Epoch 25/30\n",
      "56/56 [==============================] - 31s 546ms/step - loss: 0.3428 - categorical_accuracy: 0.9122 - val_loss: 1.1300 - val_categorical_accuracy: 0.8241\n",
      "\n",
      "Epoch 00025: val_categorical_accuracy improved from 0.76852 to 0.82407, saving model to model_init_2019-12-2110_53_26.774773/model-00025-0.34281-0.91220-1.13003-0.82407.h5\n",
      "Epoch 26/30\n",
      "56/56 [==============================] - 30s 539ms/step - loss: 0.3332 - categorical_accuracy: 0.9256 - val_loss: 1.3838 - val_categorical_accuracy: 0.7222\n",
      "\n",
      "Epoch 00026: val_categorical_accuracy did not improve from 0.82407\n",
      "\n",
      "Epoch 00026: ReduceLROnPlateau reducing learning rate to 0.0001250000059371814.\n",
      "Epoch 27/30\n",
      "56/56 [==============================] - 30s 541ms/step - loss: 0.3542 - categorical_accuracy: 0.9375 - val_loss: 1.3762 - val_categorical_accuracy: 0.7130\n",
      "\n",
      "Epoch 00027: val_categorical_accuracy did not improve from 0.82407\n",
      "Epoch 28/30\n",
      "56/56 [==============================] - 30s 540ms/step - loss: 0.3118 - categorical_accuracy: 0.9182 - val_loss: 1.4707 - val_categorical_accuracy: 0.7500\n",
      "\n",
      "Epoch 00028: val_categorical_accuracy did not improve from 0.82407\n",
      "Epoch 29/30\n"
     ]
    },
    {
     "name": "stdout",
     "output_type": "stream",
     "text": [
      "56/56 [==============================] - 30s 542ms/step - loss: 0.3061 - categorical_accuracy: 0.9375 - val_loss: 1.4192 - val_categorical_accuracy: 0.7778\n",
      "\n",
      "Epoch 00029: val_categorical_accuracy did not improve from 0.82407\n",
      "Epoch 30/30\n",
      "56/56 [==============================] - 30s 539ms/step - loss: 0.3155 - categorical_accuracy: 0.9345 - val_loss: 1.2124 - val_categorical_accuracy: 0.7870\n",
      "\n",
      "Epoch 00030: val_categorical_accuracy did not improve from 0.82407\n"
     ]
    }
   ],
   "source": [
    "history = model.fit_generator(train_generator, steps_per_epoch=steps_per_epoch, epochs=num_epochs, verbose=1, \n",
    "                    callbacks=callbacks_list, validation_data=val_generator, \n",
    "                    validation_steps=validation_steps, class_weight=None, workers=1, initial_epoch=0)"
   ]
  },
  {
   "cell_type": "code",
   "execution_count": 33,
   "metadata": {},
   "outputs": [
    {
     "data": {
      "image/png": "[encoded data removed]",
      "text/plain": [
       "<Figure size 432x288 with 1 Axes>"
      ]
     },
     "metadata": {},
     "output_type": "display_data"
    },
    {
     "data": {
      "image/png": "[encoded data removed]",
      "text/plain": [
       "<Figure size 432x288 with 1 Axes>"
      ]
     },
     "metadata": {},
     "output_type": "display_data"
    }
   ],
   "source": [
    "# Plot training & validation accuracy values\n",
    "plt.plot(history.history['categorical_accuracy'])\n",
    "plt.plot(history.history['val_categorical_accuracy'])\n",
    "plt.title('Model accuracy')\n",
    "plt.ylabel('Accuracy')\n",
    "plt.xlabel('Epoch')\n",
    "plt.legend(['Train', 'Test'], loc='upper left')\n",
    "plt.show()\n",
    "\n",
    "# Plot training & validation loss values\n",
    "plt.plot(history.history['loss'])\n",
    "plt.plot(history.history['val_loss'])\n",
    "plt.title('Model loss')\n",
    "plt.ylabel('Loss')\n",
    "plt.xlabel('Epoch')\n",
    "plt.legend(['Train', 'Test'], loc='upper left')\n",
    "plt.show()"
   ]
  },
  {
   "cell_type": "code",
   "execution_count": null,
   "metadata": {},
   "outputs": [],
   "source": [
    "test_generator = generator1(val_path, val_doc, batch_size)"
   ]
  },
  {
   "cell_type": "code",
   "execution_count": null,
   "metadata": {},
   "outputs": [],
   "source": [
    "\n",
    "if (num_val_sequences%batch_size) == 0:\n",
    "    validation_steps = int(num_val_sequences/batch_size)\n",
    "else:\n",
    "    validation_steps = (num_val_sequences//batch_size) + 1\n",
    "\n",
    "predictions = model.predict_generator(test_generator, steps=validation_steps)\n",
    "# Get most likely class\n",
    "predicted_classes = np.argmax(predictions, axis=1)"
   ]
  },
  {
   "cell_type": "code",
   "execution_count": null,
   "metadata": {},
   "outputs": [],
   "source": [
    "final = predicted_classes[0:96]"
   ]
  },
  {
   "cell_type": "code",
   "execution_count": null,
   "metadata": {},
   "outputs": [],
   "source": [
    "i = 0\n",
    "final = np.empty((0,48), int)\n",
    "for x in test_generator:\n",
    "    print('hello' + str(i))\n",
    "    \n",
    "    true_label = x[1]\n",
    "    true_class = np.argmax(true_label, axis=1)\n",
    "    if i==0:\n",
    "        temp = true_class\n",
    "    else:\n",
    "        test = np.append(temp, true_class)\n",
    "    \n",
    "    i = i+1\n",
    "    "
   ]
  },
  {
   "cell_type": "code",
   "execution_count": null,
   "metadata": {},
   "outputs": [],
   "source": [
    "len(test)"
   ]
  },
  {
   "cell_type": "code",
   "execution_count": null,
   "metadata": {},
   "outputs": [],
   "source": [
    "len(final)"
   ]
  },
  {
   "cell_type": "code",
   "execution_count": null,
   "metadata": {},
   "outputs": [],
   "source": [
    "from sklearn import metrics\n",
    "report = metrics.classification_report(test, final)\n",
    "print(report)    "
   ]
  },
  {
   "cell_type": "code",
   "execution_count": null,
   "metadata": {},
   "outputs": [],
   "source": [
    "from matplotlib import pyplot\n",
    "for layer in model.layers:\n",
    "    # check for convolutional layer\n",
    "    if 'conv' not in layer.name:\n",
    "        continue\n",
    "    # get filter weights\n",
    "    filters, biases = layer.get_weights()\n",
    "    print(layer.name, filters.shape)"
   ]
  },
  {
   "cell_type": "code",
   "execution_count": null,
   "metadata": {},
   "outputs": [],
   "source": []
  }
 ],
 "metadata": {
  "kernelspec": {
   "display_name": "Python 3",
   "language": "python",
   "name": "python3"
  },
  "language_info": {
   "codemirror_mode": {
    "name": "ipython",
    "version": 3
   },
   "file_extension": ".py",
   "mimetype": "text/x-python",
   "name": "python",
   "nbconvert_exporter": "python",
   "pygments_lexer": "ipython3",
   "version": "3.6.8"
  }
 },
 "nbformat": 4,
 "nbformat_minor": 2
}
